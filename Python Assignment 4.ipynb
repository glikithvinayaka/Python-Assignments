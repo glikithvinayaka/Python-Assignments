{
 "cells": [
  {
   "cell_type": "markdown",
   "id": "f1850a31",
   "metadata": {},
   "source": [
    "## A for loop is used for iterating over a sequence (that is either a list, a tuple, a dictionary, a set, or a string).With the for loop we can execute a set of statements, once for each item in a list, tuple, set etc.\n"
   ]
  },
  {
   "cell_type": "code",
   "execution_count": 1,
   "id": "500f8133",
   "metadata": {},
   "outputs": [
    {
     "name": "stdout",
     "output_type": "stream",
     "text": [
      "Hello Python\n",
      "Hello Python\n",
      "Hello Python\n",
      "Hello Python\n",
      "Hello Python\n"
     ]
    }
   ],
   "source": [
    "for i in range(5):\n",
    "    print(\"Hello Python\")"
   ]
  },
  {
   "cell_type": "code",
   "execution_count": 2,
   "id": "7563edfd",
   "metadata": {},
   "outputs": [],
   "source": [
    "#1:4        1,2,3,4     -------like R\n",
    "#range(5)   0,1,2,3,4   -------like python"
   ]
  },
  {
   "cell_type": "markdown",
   "id": "0b571f54",
   "metadata": {},
   "source": [
    "## To loop through a set of code a specified number of times, we can use the range() function,The range() function returns a sequence of numbers, starting from 0 by default, and increments by 1 (by default), and ends at a specified number."
   ]
  },
  {
   "cell_type": "code",
   "execution_count": 3,
   "id": "35d8a24e",
   "metadata": {},
   "outputs": [
    {
     "data": {
      "text/plain": [
       "range(0, 5)"
      ]
     },
     "execution_count": 3,
     "metadata": {},
     "output_type": "execute_result"
    }
   ],
   "source": [
    "range(5)"
   ]
  },
  {
   "cell_type": "code",
   "execution_count": 4,
   "id": "f34e5c6a",
   "metadata": {},
   "outputs": [
    {
     "name": "stdout",
     "output_type": "stream",
     "text": [
      "Hello Python :  0\n",
      "Hello Python :  1\n",
      "Hello Python :  2\n",
      "Hello Python :  3\n",
      "Hello Python :  4\n"
     ]
    }
   ],
   "source": [
    "#Print every element in a sequence of 6 consecutive numbers,using the range function.\n",
    "for i in range(5):\n",
    "    print(\"Hello Python : \",i)"
   ]
  },
  {
   "cell_type": "code",
   "execution_count": null,
   "id": "ed64d2c7",
   "metadata": {},
   "outputs": [],
   "source": []
  },
  {
   "cell_type": "markdown",
   "id": "9177c6b1",
   "metadata": {},
   "source": [
    "---"
   ]
  },
  {
   "cell_type": "code",
   "execution_count": 5,
   "id": "429384c2",
   "metadata": {},
   "outputs": [],
   "source": [
    "#Another way\n",
    "mylist=[10,100,1000]"
   ]
  },
  {
   "cell_type": "code",
   "execution_count": 6,
   "id": "bc22f865",
   "metadata": {},
   "outputs": [
    {
     "data": {
      "text/plain": [
       "[10, 100, 1000]"
      ]
     },
     "execution_count": 6,
     "metadata": {},
     "output_type": "execute_result"
    }
   ],
   "source": [
    "mylist"
   ]
  },
  {
   "cell_type": "code",
   "execution_count": 7,
   "id": "c55aa976",
   "metadata": {},
   "outputs": [
    {
     "name": "stdout",
     "output_type": "stream",
     "text": [
      "j is equal to:  10\n",
      "j is equal to:  100\n",
      "j is equal to:  1000\n"
     ]
    }
   ],
   "source": [
    "for j in mylist:\n",
    "    print(\"j is equal to: \",j)"
   ]
  },
  {
   "cell_type": "code",
   "execution_count": 8,
   "id": "dc343888",
   "metadata": {},
   "outputs": [
    {
     "data": {
      "text/plain": [
       "[0, 1, 2, 3, 4]"
      ]
     },
     "execution_count": 8,
     "metadata": {},
     "output_type": "execute_result"
    }
   ],
   "source": [
    "list(range(5))"
   ]
  },
  {
   "cell_type": "code",
   "execution_count": 9,
   "id": "c0c5b076",
   "metadata": {},
   "outputs": [
    {
     "name": "stdout",
     "output_type": "stream",
     "text": [
      "s\n",
      "i\n",
      "m\n",
      "p\n",
      "l\n",
      "i\n",
      "l\n",
      "e\n",
      "a\n",
      "r\n",
      "n\n"
     ]
    }
   ],
   "source": [
    "#looping through all elements of a string value:\n",
    "for i in \"simplilearn\":\n",
    "    print (i)"
   ]
  },
  {
   "cell_type": "code",
   "execution_count": 10,
   "id": "ab59bce3",
   "metadata": {},
   "outputs": [
    {
     "name": "stdout",
     "output_type": "stream",
     "text": [
      "History\n",
      "Geography\n",
      "chemistry\n",
      "Mathematics\n"
     ]
    }
   ],
   "source": [
    "#using the BREAK terminating statement-\n",
    "#With the break statement we can stop the loop before it has looped through all the items:\n",
    "subjects = [\"History\", \"Geography\", \"chemistry\",\"Mathematics\",\"Economics\"]\n",
    "for i in subjects:\n",
    "  print(i)\n",
    "  if i == \"Mathematics\":\n",
    "    break"
   ]
  },
  {
   "cell_type": "code",
   "execution_count": 11,
   "id": "6291f29e",
   "metadata": {},
   "outputs": [
    {
     "name": "stdout",
     "output_type": "stream",
     "text": [
      "History\n",
      "Geography\n",
      "chemistry\n",
      "Economics\n"
     ]
    }
   ],
   "source": [
    "#With the continue statement we can stop the current iteration of the loop, and continue with the next\n",
    "subjects = [\"History\", \"Geography\", \"chemistry\",\"Mathematics\",\"Economics\"]\n",
    "for i in subjects:\n",
    "    if i == \"Mathematics\":\n",
    "        continue\n",
    "    print(i)"
   ]
  },
  {
   "cell_type": "code",
   "execution_count": 14,
   "id": "413c9a60",
   "metadata": {},
   "outputs": [
    {
     "name": "stdout",
     "output_type": "stream",
     "text": [
      "Mathematics\n"
     ]
    }
   ],
   "source": [
    "#what happens if the break statement comes before the print statement?\n",
    "subjects = [\"History\", \"Geography\", \"chemistry\",\"Mathematics\",\"Economics\"]\n",
    "for i in subjects:\n",
    "  if i == \"Mathematics\":\n",
    "    break\n",
    "print(i)"
   ]
  },
  {
   "cell_type": "code",
   "execution_count": 15,
   "id": "8e63903f",
   "metadata": {},
   "outputs": [],
   "source": [
    "subjects = [\"History\", \"Geography\", \"chemistry\",\"Mathematics\",\"Economics\"]\n",
    "for i in subjects:\n",
    "  if i == \"Mathematics\":\n",
    "    break\n",
    "    print(i)"
   ]
  },
  {
   "cell_type": "code",
   "execution_count": 16,
   "id": "67f4d8da",
   "metadata": {},
   "outputs": [
    {
     "name": "stdout",
     "output_type": "stream",
     "text": [
      "0\n",
      "1\n",
      "2\n",
      "3\n",
      "4\n",
      "5\n",
      "6\n",
      "7\n",
      "Loop Exit\n"
     ]
    }
   ],
   "source": [
    "#The else keyword in a for loop specifies a block of code to be executed when the loop is finished\n",
    "#we will print all the numbers from 0 to 7 and finally print a message when the loop exits with the else statement.\n",
    "\n",
    "for x in range(8):\n",
    "    print(x)\n",
    "else:\n",
    "    print(\"Loop Exit\")\n",
    "        "
   ]
  },
  {
   "cell_type": "code",
   "execution_count": 17,
   "id": "171f0f12",
   "metadata": {},
   "outputs": [
    {
     "name": "stdout",
     "output_type": "stream",
     "text": [
      "0\n",
      "1\n",
      "2\n",
      "3\n",
      "4\n"
     ]
    }
   ],
   "source": [
    "#Now break this loop when x=5 and use the else keyword to print the same message.\n",
    "for x in range(8):\n",
    "    if x == 5: break\n",
    "    print(x)\n",
    "else:\n",
    "    print(\"done\")\n",
    "\n",
    "    "
   ]
  },
  {
   "cell_type": "code",
   "execution_count": null,
   "id": "fa2df1c5",
   "metadata": {},
   "outputs": [],
   "source": []
  }
 ],
 "metadata": {
  "kernelspec": {
   "display_name": "Python 3 (ipykernel)",
   "language": "python",
   "name": "python3"
  },
  "language_info": {
   "codemirror_mode": {
    "name": "ipython",
    "version": 3
   },
   "file_extension": ".py",
   "mimetype": "text/x-python",
   "name": "python",
   "nbconvert_exporter": "python",
   "pygments_lexer": "ipython3",
   "version": "3.9.7"
  }
 },
 "nbformat": 4,
 "nbformat_minor": 5
}
