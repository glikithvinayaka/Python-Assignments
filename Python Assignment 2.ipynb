{
 "cells": [
  {
   "cell_type": "code",
   "execution_count": 3,
   "id": "f45651e6",
   "metadata": {},
   "outputs": [
    {
     "data": {
      "text/plain": [
       "2"
      ]
     },
     "execution_count": 3,
     "metadata": {},
     "output_type": "execute_result"
    }
   ],
   "source": [
    "#integer\n",
    "x = 2\n",
    "x"
   ]
  },
  {
   "cell_type": "code",
   "execution_count": 2,
   "id": "56265184",
   "metadata": {
    "scrolled": true
   },
   "outputs": [
    {
     "data": {
      "text/plain": [
       "2"
      ]
     },
     "execution_count": 2,
     "metadata": {},
     "output_type": "execute_result"
    }
   ],
   "source": [
    "x"
   ]
  },
  {
   "cell_type": "code",
   "execution_count": 4,
   "id": "8108a841",
   "metadata": {},
   "outputs": [
    {
     "data": {
      "text/plain": [
       "int"
      ]
     },
     "execution_count": 4,
     "metadata": {},
     "output_type": "execute_result"
    }
   ],
   "source": [
    "type(x)"
   ]
  },
  {
   "cell_type": "code",
   "execution_count": 3,
   "id": "e5c599c8",
   "metadata": {},
   "outputs": [],
   "source": [
    "#float/double\n",
    "y=2.5"
   ]
  },
  {
   "cell_type": "code",
   "execution_count": 4,
   "id": "9744c0de",
   "metadata": {},
   "outputs": [
    {
     "data": {
      "text/plain": [
       "2.5"
      ]
     },
     "execution_count": 4,
     "metadata": {},
     "output_type": "execute_result"
    }
   ],
   "source": [
    "y"
   ]
  },
  {
   "cell_type": "code",
   "execution_count": 7,
   "id": "937bfcea",
   "metadata": {},
   "outputs": [
    {
     "data": {
      "text/plain": [
       "float"
      ]
     },
     "execution_count": 7,
     "metadata": {},
     "output_type": "execute_result"
    }
   ],
   "source": [
    "type(y)"
   ]
  },
  {
   "cell_type": "markdown",
   "id": "c2874fa1",
   "metadata": {},
   "source": [
    "---"
   ]
  },
  {
   "cell_type": "markdown",
   "id": "04bb6891",
   "metadata": {},
   "source": [
    "---"
   ]
  },
  {
   "cell_type": "code",
   "execution_count": 8,
   "id": "2c446c7c",
   "metadata": {},
   "outputs": [],
   "source": [
    "#String"
   ]
  },
  {
   "cell_type": "code",
   "execution_count": 9,
   "id": "b8d6f96e",
   "metadata": {},
   "outputs": [],
   "source": [
    "a=\"Hello\"\n",
    "b = '23'"
   ]
  },
  {
   "cell_type": "code",
   "execution_count": 10,
   "id": "7ef569ab",
   "metadata": {},
   "outputs": [
    {
     "data": {
      "text/plain": [
       "'Hello'"
      ]
     },
     "execution_count": 10,
     "metadata": {},
     "output_type": "execute_result"
    }
   ],
   "source": [
    "a"
   ]
  },
  {
   "cell_type": "code",
   "execution_count": 11,
   "id": "620d9d59",
   "metadata": {},
   "outputs": [
    {
     "data": {
      "text/plain": [
       "str"
      ]
     },
     "execution_count": 11,
     "metadata": {},
     "output_type": "execute_result"
    }
   ],
   "source": [
    "type(a)"
   ]
  },
  {
   "cell_type": "code",
   "execution_count": 12,
   "id": "3e211800",
   "metadata": {},
   "outputs": [
    {
     "data": {
      "text/plain": [
       "str"
      ]
     },
     "execution_count": 12,
     "metadata": {},
     "output_type": "execute_result"
    }
   ],
   "source": [
    "type(b)"
   ]
  },
  {
   "cell_type": "markdown",
   "id": "8c155d1c",
   "metadata": {},
   "source": [
    "----"
   ]
  },
  {
   "cell_type": "code",
   "execution_count": 13,
   "id": "ca16f5ee",
   "metadata": {},
   "outputs": [],
   "source": [
    "#Logical/Boolean"
   ]
  },
  {
   "cell_type": "code",
   "execution_count": 14,
   "id": "190e209a",
   "metadata": {},
   "outputs": [],
   "source": [
    "q1 = True"
   ]
  },
  {
   "cell_type": "code",
   "execution_count": 15,
   "id": "796156e6",
   "metadata": {},
   "outputs": [
    {
     "data": {
      "text/plain": [
       "True"
      ]
     },
     "execution_count": 15,
     "metadata": {},
     "output_type": "execute_result"
    }
   ],
   "source": [
    "q1"
   ]
  },
  {
   "cell_type": "code",
   "execution_count": 16,
   "id": "13e65332",
   "metadata": {},
   "outputs": [
    {
     "data": {
      "text/plain": [
       "bool"
      ]
     },
     "execution_count": 16,
     "metadata": {},
     "output_type": "execute_result"
    }
   ],
   "source": [
    "type(q1)"
   ]
  },
  {
   "cell_type": "code",
   "execution_count": 17,
   "id": "6a068bdc",
   "metadata": {},
   "outputs": [],
   "source": [
    "q2 = False"
   ]
  },
  {
   "cell_type": "code",
   "execution_count": 18,
   "id": "7f929ed6",
   "metadata": {},
   "outputs": [
    {
     "data": {
      "text/plain": [
       "bool"
      ]
     },
     "execution_count": 18,
     "metadata": {},
     "output_type": "execute_result"
    }
   ],
   "source": [
    "type(q2)"
   ]
  },
  {
   "cell_type": "markdown",
   "id": "c535677b",
   "metadata": {},
   "source": [
    "## Typecasting numbers In Python, Type Casting is a process in which we convert a data value of one type to another."
   ]
  },
  {
   "cell_type": "code",
   "execution_count": 5,
   "id": "8dc3fce5",
   "metadata": {},
   "outputs": [
    {
     "name": "stdout",
     "output_type": "stream",
     "text": [
      "100.0\n",
      "<class 'float'>\n",
      "100\n",
      "<class 'str'>\n"
     ]
    }
   ],
   "source": [
    "#Type Cast int to float and string\n",
    "#integer\n",
    "n = 100\n",
    "\n",
    "#float\n",
    "f = float(n)\n",
    "print(f)\n",
    "print(type(f))\n",
    "\n",
    "#string\n",
    "s = str(n)\n",
    "print(s)\n",
    "print(type(s))"
   ]
  },
  {
   "cell_type": "code",
   "execution_count": 20,
   "id": "711ff3c2",
   "metadata": {},
   "outputs": [
    {
     "name": "stdout",
     "output_type": "stream",
     "text": [
      "100\n",
      "<class 'int'>\n",
      "100.05\n",
      "<class 'str'>\n"
     ]
    }
   ],
   "source": [
    "#Type Cast float to int and string\n",
    "#float\n",
    "f = 100.05\n",
    "\n",
    "#integer\n",
    "n = int(f)\n",
    "print(n)\n",
    "print(type(n))\n",
    "\n",
    "#string\n",
    "s = str(f)\n",
    "print(s)\n",
    "print(type(s))"
   ]
  },
  {
   "cell_type": "markdown",
   "id": "0a329573",
   "metadata": {},
   "source": [
    "## if you have decimal point in the string, you cannot typecast that directly to an integer. You should first typecast string to float and then that to integer. "
   ]
  },
  {
   "cell_type": "code",
   "execution_count": 21,
   "id": "9904fc3b",
   "metadata": {},
   "outputs": [
    {
     "name": "stdout",
     "output_type": "stream",
     "text": [
      "132\n",
      "<class 'int'>\n",
      "132.65\n",
      "<class 'float'>\n"
     ]
    }
   ],
   "source": [
    "##string\n",
    "s = '132.65'\n",
    "\n",
    "#typecast to integer\n",
    "n = int(float(s))\n",
    "#m = int(n)\n",
    "print(n)\n",
    "print(type(n))\n",
    "\n",
    "#typecast to float\n",
    "f = float(s)\n",
    "print(f)\n",
    "print(type(f))"
   ]
  },
  {
   "cell_type": "markdown",
   "id": "8dd675ad",
   "metadata": {},
   "source": [
    "## Tuple is one of 4 built-in data types in Python used to store collections of data, the other 3 are List, Set, and Dictionary, all with different qualities and usage.A tuple is a collection which is ordered and unchangeable.Tuples are written with round brackets."
   ]
  },
  {
   "cell_type": "code",
   "execution_count": 6,
   "id": "7c14b71f",
   "metadata": {},
   "outputs": [
    {
     "name": "stdout",
     "output_type": "stream",
     "text": [
      "('A', 'BA', 'CC')\n"
     ]
    }
   ],
   "source": [
    "#Create a tuple\n",
    "my_tuple = (\"A\", \"BA\", \"CC\")\n",
    "print(my_tuple)"
   ]
  },
  {
   "cell_type": "code",
   "execution_count": 23,
   "id": "4a09bdf0",
   "metadata": {},
   "outputs": [
    {
     "name": "stdout",
     "output_type": "stream",
     "text": [
      "('A', 'BA', 'CC', 'A')\n"
     ]
    }
   ],
   "source": [
    "#Tuples allow duplicate values:\n",
    "my_tuple1 = (\"A\", \"BA\", \"CC\",\"A\")\n",
    "print(my_tuple1)"
   ]
  },
  {
   "cell_type": "code",
   "execution_count": 24,
   "id": "2ad7a93e",
   "metadata": {},
   "outputs": [
    {
     "name": "stdout",
     "output_type": "stream",
     "text": [
      "4\n"
     ]
    }
   ],
   "source": [
    "#Print the number of items in the tuple\n",
    "my_tuple1 = (\"A\", \"BA\", \"CC\",\"A\")  #len is the length of a tuple,it gives the No of elements within the data structure\n",
    "print(len(my_tuple1))"
   ]
  },
  {
   "cell_type": "code",
   "execution_count": 7,
   "id": "660aa55b",
   "metadata": {},
   "outputs": [
    {
     "name": "stdout",
     "output_type": "stream",
     "text": [
      "<class 'tuple'>\n",
      "<class 'str'>\n"
     ]
    }
   ],
   "source": [
    "#One item tuple, remember the comma:\n",
    "mytuple2 = (\"tupple\",)\n",
    "print(type(mytuple2))\n",
    "\n",
    "#NOT a tuple\n",
    "tupleno = (\"apple\")\n",
    "print(type(tupleno))"
   ]
  },
  {
   "cell_type": "code",
   "execution_count": 28,
   "id": "1bd7dc71",
   "metadata": {},
   "outputs": [],
   "source": [
    "#Tuple items can be of any data type:\n",
    "tuple1 = (\"alice\", \"Jenny\", \"clara\")\n",
    "tuple2 = (1, 5, 7, 9, 3)\n",
    "tuple3 = (True, False, False)"
   ]
  },
  {
   "cell_type": "code",
   "execution_count": 9,
   "id": "262ed94d",
   "metadata": {},
   "outputs": [
    {
     "name": "stdout",
     "output_type": "stream",
     "text": [
      "<class 'tuple'>\n"
     ]
    }
   ],
   "source": [
    "#A tuple can contain different data types,and tuples are defined as objects with the data type 'tuple'\n",
    "t1 = (\"abc\", 34, True, 40.5, \"male\")\n",
    "print(type(t1))"
   ]
  },
  {
   "cell_type": "code",
   "execution_count": 10,
   "id": "93b103c1",
   "metadata": {},
   "outputs": [
    {
     "name": "stdout",
     "output_type": "stream",
     "text": [
      "40.5\n"
     ]
    }
   ],
   "source": [
    "#Accessing items of a tuple\n",
    "print(t1[3])"
   ]
  },
  {
   "cell_type": "code",
   "execution_count": 12,
   "id": "525711ef",
   "metadata": {},
   "outputs": [
    {
     "name": "stdout",
     "output_type": "stream",
     "text": [
      "True\n"
     ]
    }
   ],
   "source": [
    "print(t1[-3])"
   ]
  },
  {
   "cell_type": "markdown",
   "id": "37679c51",
   "metadata": {},
   "source": [
    "## 0---1---2--3= positive indices.(left to right)                  \n",
    "## negetive indices start from -1--(-2)---(-3) right to left    "
   ]
  },
  {
   "cell_type": "code",
   "execution_count": 32,
   "id": "519a909f",
   "metadata": {},
   "outputs": [
    {
     "data": {
      "text/plain": [
       "('Mary', 45.6, 'second')"
      ]
     },
     "execution_count": 32,
     "metadata": {},
     "output_type": "execute_result"
    }
   ],
   "source": [
    "#Slicing Tuples\n",
    "tuple2 = (12,\"Mary\",45.6,'second',(3,2),'test')  #COUNTS START AT THE FIRST INDEX BUT STOPS BEFORE THE SECOND INDEX\n",
    "subset = tuple2[1:4]\n",
    "subset"
   ]
  },
  {
   "cell_type": "code",
   "execution_count": 33,
   "id": "c53d1cd3",
   "metadata": {},
   "outputs": [
    {
     "data": {
      "text/plain": [
       "('Mary', 45.6, 'second', (3, 2))"
      ]
     },
     "execution_count": 33,
     "metadata": {},
     "output_type": "execute_result"
    }
   ],
   "source": [
    "subset2 = tuple2[1:-1]\n",
    "subset2"
   ]
  },
  {
   "cell_type": "markdown",
   "id": "355b96cf",
   "metadata": {},
   "source": [
    "## Lists: Unlike tuples,are one dimentional,mutable(changeable) and contains mixed data types."
   ]
  },
  {
   "cell_type": "code",
   "execution_count": 1,
   "id": "9dea5483",
   "metadata": {},
   "outputs": [],
   "source": [
    "list1 = [\"abc\", 34, True, 40, \"male\"]"
   ]
  },
  {
   "cell_type": "code",
   "execution_count": 2,
   "id": "9bd0c582",
   "metadata": {},
   "outputs": [
    {
     "data": {
      "text/plain": [
       "['abc', 34, True, 40, 'male']"
      ]
     },
     "execution_count": 2,
     "metadata": {},
     "output_type": "execute_result"
    }
   ],
   "source": [
    "list1"
   ]
  },
  {
   "cell_type": "code",
   "execution_count": 3,
   "id": "509aef53",
   "metadata": {},
   "outputs": [],
   "source": [
    "#Using append function\n",
    "list1.append(\"Jack\")"
   ]
  },
  {
   "cell_type": "code",
   "execution_count": 37,
   "id": "89b7f9fb",
   "metadata": {},
   "outputs": [
    {
     "data": {
      "text/plain": [
       "['abc', 34, True, 40, 'male', 'Jack']"
      ]
     },
     "execution_count": 37,
     "metadata": {},
     "output_type": "execute_result"
    }
   ],
   "source": [
    "list1"
   ]
  },
  {
   "cell_type": "code",
   "execution_count": 38,
   "id": "39105a75",
   "metadata": {},
   "outputs": [],
   "source": [
    "#remove function\n",
    "list1.remove(\"abc\")"
   ]
  },
  {
   "cell_type": "code",
   "execution_count": 39,
   "id": "59fd5fb5",
   "metadata": {},
   "outputs": [
    {
     "data": {
      "text/plain": [
       "[34, True, 40, 'male', 'Jack']"
      ]
     },
     "execution_count": 39,
     "metadata": {},
     "output_type": "execute_result"
    }
   ],
   "source": [
    "list1"
   ]
  },
  {
   "cell_type": "markdown",
   "id": "991d3c38",
   "metadata": {},
   "source": [
    "## Shows that lists are mutable"
   ]
  },
  {
   "cell_type": "code",
   "execution_count": 40,
   "id": "41a78b71",
   "metadata": {},
   "outputs": [
    {
     "data": {
      "text/plain": [
       "40"
      ]
     },
     "execution_count": 40,
     "metadata": {},
     "output_type": "execute_result"
    }
   ],
   "source": [
    "#using pop() function,Remove the second element of list1:\n",
    "list1.pop(2)"
   ]
  },
  {
   "cell_type": "code",
   "execution_count": 41,
   "id": "bfd505f9",
   "metadata": {},
   "outputs": [
    {
     "data": {
      "text/plain": [
       "[34, True, 'male', 'Jack']"
      ]
     },
     "execution_count": 41,
     "metadata": {},
     "output_type": "execute_result"
    }
   ],
   "source": [
    "#display list1\n",
    "list1      #value 40 is removed"
   ]
  },
  {
   "cell_type": "code",
   "execution_count": 42,
   "id": "aa207bed",
   "metadata": {},
   "outputs": [],
   "source": [
    "#Insert function---we will insert a string \"madhu\" in list1\n",
    "list1.insert(2,\"madhu\")\n"
   ]
  },
  {
   "cell_type": "code",
   "execution_count": 43,
   "id": "6312849a",
   "metadata": {},
   "outputs": [
    {
     "data": {
      "text/plain": [
       "[34, True, 'madhu', 'male', 'Jack']"
      ]
     },
     "execution_count": 43,
     "metadata": {},
     "output_type": "execute_result"
    }
   ],
   "source": [
    "list1"
   ]
  },
  {
   "cell_type": "markdown",
   "id": "3452b701",
   "metadata": {},
   "source": [
    "## Accessing elements of a list"
   ]
  },
  {
   "cell_type": "code",
   "execution_count": 44,
   "id": "43564db5",
   "metadata": {},
   "outputs": [],
   "source": [
    "list2 =[\"jack\",89.5, False,77,None,'Mary']"
   ]
  },
  {
   "cell_type": "code",
   "execution_count": 45,
   "id": "217fb9dd",
   "metadata": {},
   "outputs": [
    {
     "data": {
      "text/plain": [
       "['jack', 89.5, False, 77, None, 'Mary']"
      ]
     },
     "execution_count": 45,
     "metadata": {},
     "output_type": "execute_result"
    }
   ],
   "source": [
    "list2"
   ]
  },
  {
   "cell_type": "code",
   "execution_count": 47,
   "id": "20c23a3f",
   "metadata": {},
   "outputs": [
    {
     "data": {
      "text/plain": [
       "False"
      ]
     },
     "execution_count": 47,
     "metadata": {},
     "output_type": "execute_result"
    }
   ],
   "source": [
    "#accessing elements using the positive index\n",
    "list2[2]      #in case you put list2[2,3] it will become atuple and throw errors."
   ]
  },
  {
   "cell_type": "code",
   "execution_count": 49,
   "id": "fb8cd03a",
   "metadata": {},
   "outputs": [
    {
     "data": {
      "text/plain": [
       "77"
      ]
     },
     "execution_count": 49,
     "metadata": {},
     "output_type": "execute_result"
    }
   ],
   "source": [
    "#Using negetive indices to access elements of a list\n",
    "list2[-3]"
   ]
  },
  {
   "cell_type": "code",
   "execution_count": 51,
   "id": "47d163c1",
   "metadata": {},
   "outputs": [
    {
     "data": {
      "text/plain": [
       "[89.5, False, 77]"
      ]
     },
     "execution_count": 51,
     "metadata": {},
     "output_type": "execute_result"
    }
   ],
   "source": [
    "#accessing elements of a list through indices\n",
    "list2[1:4]       #it will fetch 1st,2nd and 3rd elements only."
   ]
  },
  {
   "cell_type": "markdown",
   "id": "22a5cafd",
   "metadata": {},
   "source": [
    "## Dictionaries map a set of keys to a set of values. Keys are immutable,while values can be of any data type. We use the curly brackets{} to create the key value pairs"
   ]
  },
  {
   "cell_type": "code",
   "execution_count": 59,
   "id": "255a5310",
   "metadata": {},
   "outputs": [],
   "source": [
    "#Viweing keys and values in a dictionary.\n",
    "first_dict = {'john':'travolta','kelly':'Brook','id':[34,43]}"
   ]
  },
  {
   "cell_type": "code",
   "execution_count": 60,
   "id": "8033e699",
   "metadata": {},
   "outputs": [
    {
     "data": {
      "text/plain": [
       "{'john': 'travolta', 'kelly': 'Brook', 'id': [34, 43]}"
      ]
     },
     "execution_count": 60,
     "metadata": {},
     "output_type": "execute_result"
    }
   ],
   "source": [
    "first_dict"
   ]
  },
  {
   "cell_type": "code",
   "execution_count": 61,
   "id": "37795e65",
   "metadata": {},
   "outputs": [
    {
     "data": {
      "text/plain": [
       "dict_keys(['john', 'kelly', 'id'])"
      ]
     },
     "execution_count": 61,
     "metadata": {},
     "output_type": "execute_result"
    }
   ],
   "source": [
    "first_dict.keys()"
   ]
  },
  {
   "cell_type": "code",
   "execution_count": 62,
   "id": "60779e02",
   "metadata": {},
   "outputs": [
    {
     "data": {
      "text/plain": [
       "dict_values(['travolta', 'Brook', [34, 43]])"
      ]
     },
     "execution_count": 62,
     "metadata": {},
     "output_type": "execute_result"
    }
   ],
   "source": [
    "first_dict.values()"
   ]
  },
  {
   "cell_type": "code",
   "execution_count": 63,
   "id": "2dd4efd9",
   "metadata": {},
   "outputs": [
    {
     "data": {
      "text/plain": [
       "'travolta'"
      ]
     },
     "execution_count": 63,
     "metadata": {},
     "output_type": "execute_result"
    }
   ],
   "source": [
    "#Accesing and modifying dict elements\n",
    "first_dict['john']"
   ]
  },
  {
   "cell_type": "code",
   "execution_count": 64,
   "id": "af48b6b4",
   "metadata": {},
   "outputs": [
    {
     "data": {
      "text/plain": [
       "[34, 43]"
      ]
     },
     "execution_count": 64,
     "metadata": {},
     "output_type": "execute_result"
    }
   ],
   "source": [
    "first_dict['id']"
   ]
  },
  {
   "cell_type": "code",
   "execution_count": 65,
   "id": "52aa97a9",
   "metadata": {},
   "outputs": [],
   "source": [
    "#updating values in the dictionary\n",
    "first_dict.update({'id':[32,89]})"
   ]
  },
  {
   "cell_type": "code",
   "execution_count": 66,
   "id": "23cb57c1",
   "metadata": {},
   "outputs": [
    {
     "data": {
      "text/plain": [
       "{'john': 'travolta', 'kelly': 'Brook', 'id': [32, 89]}"
      ]
     },
     "execution_count": 66,
     "metadata": {},
     "output_type": "execute_result"
    }
   ],
   "source": [
    "first_dict"
   ]
  },
  {
   "cell_type": "code",
   "execution_count": 68,
   "id": "bf0e58ff",
   "metadata": {},
   "outputs": [],
   "source": [
    "#deleting key-value pairs\n",
    "del first_dict['id']"
   ]
  },
  {
   "cell_type": "code",
   "execution_count": 69,
   "id": "d217a45f",
   "metadata": {},
   "outputs": [
    {
     "data": {
      "text/plain": [
       "{'john': 'travolta', 'kelly': 'Brook'}"
      ]
     },
     "execution_count": 69,
     "metadata": {},
     "output_type": "execute_result"
    }
   ],
   "source": [
    "first_dict"
   ]
  },
  {
   "cell_type": "markdown",
   "id": "d8056831",
   "metadata": {},
   "source": [
    "## A set is an unordered collection of unique elements.Sets are used to store multiple items in a single variable.Set items are unchangeable, but you can remove items and add new items.Sets are unordered, so you cannot be sure in which order the items will appear.Set items can appear in a different order every time you use them, and cannot be referred to by index or key.In sets,Duplicates are Not Allowed. We cannot change the items of the set but we can add or remove items."
   ]
  },
  {
   "cell_type": "code",
   "execution_count": 70,
   "id": "d43eeef8",
   "metadata": {},
   "outputs": [],
   "source": [
    "#Sets are written with curly brackets.\n",
    "\n",
    "set1 = {\"abc\", 34, True, 40, \"male\"}"
   ]
  },
  {
   "cell_type": "code",
   "execution_count": 71,
   "id": "d153fc1e",
   "metadata": {},
   "outputs": [
    {
     "data": {
      "text/plain": [
       "{34, 40, True, 'abc', 'male'}"
      ]
     },
     "execution_count": 71,
     "metadata": {},
     "output_type": "execute_result"
    }
   ],
   "source": [
    "set1"
   ]
  },
  {
   "cell_type": "code",
   "execution_count": 72,
   "id": "4d015590",
   "metadata": {},
   "outputs": [
    {
     "data": {
      "text/plain": [
       "set"
      ]
     },
     "execution_count": 72,
     "metadata": {},
     "output_type": "execute_result"
    }
   ],
   "source": [
    "type(set1)"
   ]
  },
  {
   "cell_type": "code",
   "execution_count": 73,
   "id": "39f87d35",
   "metadata": {},
   "outputs": [],
   "source": [
    "#Does not allow duplicates.\n",
    "set2 = {\"abc\",34,True,True,40,\"male\",\"male\",\"90.7\"}"
   ]
  },
  {
   "cell_type": "code",
   "execution_count": 75,
   "id": "6cf48c04",
   "metadata": {},
   "outputs": [
    {
     "data": {
      "text/plain": [
       "{34, 40, '90.7', True, 'abc', 'male'}"
      ]
     },
     "execution_count": 75,
     "metadata": {},
     "output_type": "execute_result"
    }
   ],
   "source": [
    "set2 #NO SPECIFIC ORDER IS FOLLOWED BY THE ELEMENTS OF THE SET."
   ]
  },
  {
   "cell_type": "markdown",
   "id": "be6f8cce",
   "metadata": {},
   "source": [
    "## Set Operations-Union(OR) and AND(Intersection) operators"
   ]
  },
  {
   "cell_type": "code",
   "execution_count": 76,
   "id": "e8cf8143",
   "metadata": {},
   "outputs": [],
   "source": [
    "combined_OR=set1|set2"
   ]
  },
  {
   "cell_type": "code",
   "execution_count": 77,
   "id": "6b0fbb81",
   "metadata": {},
   "outputs": [
    {
     "data": {
      "text/plain": [
       "{34, 40, '90.7', True, 'abc', 'male'}"
      ]
     },
     "execution_count": 77,
     "metadata": {},
     "output_type": "execute_result"
    }
   ],
   "source": [
    "combined_OR   #all elements of set1 and "
   ]
  },
  {
   "cell_type": "code",
   "execution_count": 78,
   "id": "b497f648",
   "metadata": {},
   "outputs": [],
   "source": [
    "Intersection_And = set1 & set2"
   ]
  },
  {
   "cell_type": "code",
   "execution_count": 79,
   "id": "8a7f90ac",
   "metadata": {},
   "outputs": [
    {
     "data": {
      "text/plain": [
       "{34, 40, True, 'abc', 'male'}"
      ]
     },
     "execution_count": 79,
     "metadata": {},
     "output_type": "execute_result"
    }
   ],
   "source": [
    "Intersection_And  #in this case only common elements are displayed"
   ]
  },
  {
   "cell_type": "markdown",
   "id": "d6b95a64",
   "metadata": {},
   "source": [
    "## The 'IN' Operator----Returns True if a sequence with the specified value is present in the object"
   ]
  },
  {
   "cell_type": "code",
   "execution_count": 1,
   "id": "0780c5ed",
   "metadata": {},
   "outputs": [],
   "source": [
    "student_names = ['Tom','Dick','Harry','sarah','Nicole']"
   ]
  },
  {
   "cell_type": "code",
   "execution_count": 3,
   "id": "4742ef42",
   "metadata": {},
   "outputs": [
    {
     "data": {
      "text/plain": [
       "True"
      ]
     },
     "execution_count": 3,
     "metadata": {},
     "output_type": "execute_result"
    }
   ],
   "source": [
    "'Tom' in student_names"
   ]
  },
  {
   "cell_type": "code",
   "execution_count": 4,
   "id": "c018a420",
   "metadata": {},
   "outputs": [
    {
     "data": {
      "text/plain": [
       "True"
      ]
     },
     "execution_count": 4,
     "metadata": {},
     "output_type": "execute_result"
    }
   ],
   "source": [
    "'Harry' in student_names"
   ]
  },
  {
   "cell_type": "code",
   "execution_count": 5,
   "id": "afedfbd6",
   "metadata": {},
   "outputs": [],
   "source": [
    "word = 'sequence'"
   ]
  },
  {
   "cell_type": "code",
   "execution_count": 6,
   "id": "8bb0af11",
   "metadata": {},
   "outputs": [
    {
     "data": {
      "text/plain": [
       "False"
      ]
     },
     "execution_count": 6,
     "metadata": {},
     "output_type": "execute_result"
    }
   ],
   "source": [
    "'t' in word"
   ]
  },
  {
   "cell_type": "code",
   "execution_count": 7,
   "id": "80622a51",
   "metadata": {},
   "outputs": [
    {
     "data": {
      "text/plain": [
       "True"
      ]
     },
     "execution_count": 7,
     "metadata": {},
     "output_type": "execute_result"
    }
   ],
   "source": [
    "'c' in word"
   ]
  },
  {
   "cell_type": "markdown",
   "id": "13f1270b",
   "metadata": {},
   "source": [
    "## Arithmetic operators are used with numeric values to perform common mathematical operations: the plus operator produces a tuple,list or string which is a concatenation of its arguments.\n",
    "\n"
   ]
  },
  {
   "cell_type": "code",
   "execution_count": 8,
   "id": "1ef20849",
   "metadata": {},
   "outputs": [],
   "source": [
    "scores1 = [67,66,50]\n",
    "scores2 = [70,80,90]\n"
   ]
  },
  {
   "cell_type": "code",
   "execution_count": 9,
   "id": "6a4944f1",
   "metadata": {},
   "outputs": [],
   "source": [
    "add_scores = scores1+scores2"
   ]
  },
  {
   "cell_type": "code",
   "execution_count": 10,
   "id": "02f4f105",
   "metadata": {},
   "outputs": [
    {
     "data": {
      "text/plain": [
       "[67, 66, 50, 70, 80, 90]"
      ]
     },
     "execution_count": 10,
     "metadata": {},
     "output_type": "execute_result"
    }
   ],
   "source": [
    "add_scores"
   ]
  },
  {
   "cell_type": "code",
   "execution_count": 11,
   "id": "dfa254e3",
   "metadata": {},
   "outputs": [
    {
     "data": {
      "text/plain": [
       "'allen Parker'"
      ]
     },
     "execution_count": 11,
     "metadata": {},
     "output_type": "execute_result"
    }
   ],
   "source": [
    "first_name = 'allen'\n",
    "last_name = 'Parker'\n",
    "full_name = first_name +\" \"+last_name\n",
    "full_name"
   ]
  },
  {
   "cell_type": "markdown",
   "id": "c61b0a96",
   "metadata": {},
   "source": [
    "## The multiplication operator produces a new tuple,list or string that repeats the original content. The operator '*' does not perform actual multiplication,but just repeats the content for a specific number of times."
   ]
  },
  {
   "cell_type": "code",
   "execution_count": 12,
   "id": "a865baba",
   "metadata": {},
   "outputs": [
    {
     "data": {
      "text/plain": [
       "(12, 24, 36, 12, 24, 36, 12, 24, 36)"
      ]
     },
     "execution_count": 12,
     "metadata": {},
     "output_type": "execute_result"
    }
   ],
   "source": [
    "age = (12,24,36)*3\n",
    "age"
   ]
  },
  {
   "cell_type": "code",
   "execution_count": 13,
   "id": "034e2f87",
   "metadata": {},
   "outputs": [
    {
     "data": {
      "text/plain": [
       "[101, 202, 444, 101, 202, 444]"
      ]
     },
     "execution_count": 13,
     "metadata": {},
     "output_type": "execute_result"
    }
   ],
   "source": [
    "#using a list\n",
    "ID = [101,202,444]*2\n",
    "ID"
   ]
  },
  {
   "cell_type": "code",
   "execution_count": 14,
   "id": "f56f1e5b",
   "metadata": {},
   "outputs": [
    {
     "data": {
      "text/plain": [
       "'friendfriendfriend'"
      ]
     },
     "execution_count": 14,
     "metadata": {},
     "output_type": "execute_result"
    }
   ],
   "source": [
    "#USING A STRING\n",
    "name = 'friend'*3\n",
    "name"
   ]
  },
  {
   "cell_type": "markdown",
   "id": "2c5ccdd4",
   "metadata": {},
   "source": [
    "## Functions are the primary and most important method to do organised coding and can be reused. It starts with the 'def' keyword,and the outcome of a function is obtained by the Return statement. Arguments within the parenthesis are basically the tasks assigned to the function."
   ]
  },
  {
   "cell_type": "markdown",
   "id": "62f6dbd2",
   "metadata": {},
   "source": [
    "### We use 'def' to create a function,and post that we give it a name."
   ]
  },
  {
   "cell_type": "code",
   "execution_count": 16,
   "id": "f3483a55",
   "metadata": {},
   "outputs": [],
   "source": [
    "#IN PYTHON A FUNCTION IS DEFINED USING 'DEF' KEYWORD\n",
    "#TO CALL A FUNCTION USE THE FUNCTION NAME FOLLOWED BY A PARENTHESIS()\n",
    "def add_two_numbers(num1,num2):\n",
    "        return num1+num2\n",
    "number1=23\n",
    "number2=47.5\n",
    "result = add_two_numbers(number1,number2)"
   ]
  },
  {
   "cell_type": "code",
   "execution_count": 17,
   "id": "0764cf49",
   "metadata": {},
   "outputs": [
    {
     "data": {
      "text/plain": [
       "70.5"
      ]
     },
     "execution_count": 17,
     "metadata": {},
     "output_type": "execute_result"
    }
   ],
   "source": [
    "result"
   ]
  },
  {
   "cell_type": "code",
   "execution_count": 5,
   "id": "3d628ac7",
   "metadata": {},
   "outputs": [
    {
     "name": "stdout",
     "output_type": "stream",
     "text": [
      "Bruce Lee\n"
     ]
    }
   ],
   "source": [
    "#A parameter is the variable listed inside the parentheses in the function definition.(fname,lname)\n",
    "#An argument is the value that is sent to the function when it is called.(bruce,lee)\n",
    "\n",
    "def my_function(fname, lname):\n",
    "  print(fname + \" \" + lname)\n",
    "\n",
    "my_function(\"Bruce\", \"Lee\")\n"
   ]
  },
  {
   "cell_type": "code",
   "execution_count": 6,
   "id": "b45735c3",
   "metadata": {},
   "outputs": [],
   "source": [
    "def profile():         #no parameters are mentioned\n",
    "    age=21\n",
    "    height=5.5\n",
    "    weight=54\n",
    "    return age,height    #age and weight is the outcome we want,defined by return statement\n",
    "age, height = profile()  #We call the function using function name"
   ]
  },
  {
   "cell_type": "code",
   "execution_count": 7,
   "id": "54ec8d13",
   "metadata": {},
   "outputs": [
    {
     "name": "stdout",
     "output_type": "stream",
     "text": [
      "21 5.5\n"
     ]
    }
   ],
   "source": [
    "print (age, height)"
   ]
  },
  {
   "cell_type": "markdown",
   "id": "ce28d5e5",
   "metadata": {},
   "source": [
    "## Inbuilt Functions"
   ]
  },
  {
   "cell_type": "markdown",
   "id": "92094cc1",
   "metadata": {},
   "source": [
    "### The enumerate() function takes a collection (e.g. a tuple) and returns it as an enumerate object.The enumerate() function adds a counter as the key of the enumerate object. Basically it creates an index of data so that we can create a data map"
   ]
  },
  {
   "cell_type": "code",
   "execution_count": 32,
   "id": "2ad433a6",
   "metadata": {},
   "outputs": [
    {
     "name": "stdout",
     "output_type": "stream",
     "text": [
      "[(0, 'apple'), (1, 'banana'), (2, 'cherry')]\n"
     ]
    }
   ],
   "source": [
    "x = ('apple', 'banana', 'cherry')\n",
    "y = enumerate(x)\n",
    "print(list(y))     #We get the output as a list"
   ]
  },
  {
   "cell_type": "code",
   "execution_count": 33,
   "id": "494d0e42",
   "metadata": {},
   "outputs": [],
   "source": [
    "# We will first start with a list of cities\n",
    "city_list = ['Bangkok','Paris','Lahore','Moscow','Cairo']"
   ]
  },
  {
   "cell_type": "code",
   "execution_count": 35,
   "id": "12be7d5c",
   "metadata": {},
   "outputs": [
    {
     "name": "stdout",
     "output_type": "stream",
     "text": [
      "0 Bangkok\n",
      "1 Paris\n",
      "2 Lahore\n",
      "3 Moscow\n",
      "4 Cairo\n"
     ]
    }
   ],
   "source": [
    "#Now we use the enumerate function to create an index of the data,we want the index first,so we write'position'\n",
    "for position,name in enumerate(city_list):\n",
    "    print(position,name)\n"
   ]
  },
  {
   "cell_type": "code",
   "execution_count": 38,
   "id": "32392fdc",
   "metadata": {},
   "outputs": [],
   "source": [
    "#We create a data map now,using a dict\n",
    "city_map = dict((name,position) for position,name in enumerate (city_list)) #enumerate function gives index first"
   ]
  },
  {
   "cell_type": "code",
   "execution_count": 39,
   "id": "8fbcc2d2",
   "metadata": {},
   "outputs": [
    {
     "data": {
      "text/plain": [
       "{'Bangkok': 0, 'Paris': 1, 'Lahore': 2, 'Moscow': 3, 'Cairo': 4}"
      ]
     },
     "execution_count": 39,
     "metadata": {},
     "output_type": "execute_result"
    }
   ],
   "source": [
    "city_map"
   ]
  },
  {
   "cell_type": "markdown",
   "id": "2113a331",
   "metadata": {},
   "source": [
    "## Sort function- sorts numeric and string values"
   ]
  },
  {
   "cell_type": "code",
   "execution_count": 2,
   "id": "bb1a823d",
   "metadata": {},
   "outputs": [
    {
     "name": "stdout",
     "output_type": "stream",
     "text": [
      "['e', 'q', 'r', 't', 'w', 'y']\n"
     ]
    }
   ],
   "source": [
    "x = ['q', 'w', 'r', 'e', 't', 'y']\n",
    "print(sorted(x))"
   ]
  },
  {
   "cell_type": "code",
   "execution_count": 1,
   "id": "9e9fae20",
   "metadata": {},
   "outputs": [
    {
     "name": "stdout",
     "output_type": "stream",
     "text": [
      "[1, 2, 11]\n"
     ]
    }
   ],
   "source": [
    "a = (1, 11, 2)\n",
    "x = sorted(a)\n",
    "print(x)"
   ]
  },
  {
   "cell_type": "code",
   "execution_count": 3,
   "id": "1d43a9d6",
   "metadata": {},
   "outputs": [
    {
     "name": "stdout",
     "output_type": "stream",
     "text": [
      "['h', 'g', 'f', 'e', 'd', 'c', 'b', 'a']\n"
     ]
    }
   ],
   "source": [
    "#Now sorting in the descending order\n",
    "a = (\"h\", \"b\", \"a\", \"c\", \"f\", \"d\", \"e\", \"g\")\n",
    "x = sorted(a, reverse=True)\n",
    "print(x)"
   ]
  },
  {
   "cell_type": "markdown",
   "id": "b77351c7",
   "metadata": {},
   "source": [
    "## Reverse and Zip functions"
   ]
  },
  {
   "cell_type": "code",
   "execution_count": 4,
   "id": "34e06551",
   "metadata": {},
   "outputs": [
    {
     "data": {
      "text/plain": [
       "[10, 9, 8, 7, 6, 5]"
      ]
     },
     "execution_count": 4,
     "metadata": {},
     "output_type": "execute_result"
    }
   ],
   "source": [
    "#Reverse function is used to reverse the list of elements in a list\n",
    "num_list=[5,6,7,8,9,10]\n",
    "list(reversed(num_list))"
   ]
  },
  {
   "cell_type": "code",
   "execution_count": 8,
   "id": "a5b6fc20",
   "metadata": {},
   "outputs": [
    {
     "data": {
      "text/plain": [
       "[('maths', 'one'),\n",
       " ('statistics', 'two'),\n",
       " ('science', 'three'),\n",
       " ('economics', 'four')]"
      ]
     },
     "execution_count": 8,
     "metadata": {},
     "output_type": "execute_result"
    }
   ],
   "source": [
    "#Zip functions are used to pair elements of two lists\n",
    "subjects =['maths','statistics','science','economics']\n",
    "subject_num = ['one','two','three','four']\n",
    "all_subjects = list(zip(subjects,subject_num))   #Changed code for python 3\n",
    "all_subjects"
   ]
  },
  {
   "cell_type": "code",
   "execution_count": null,
   "id": "090e20ff",
   "metadata": {},
   "outputs": [],
   "source": []
  }
 ],
 "metadata": {
  "kernelspec": {
   "display_name": "Python 3 (ipykernel)",
   "language": "python",
   "name": "python3"
  },
  "language_info": {
   "codemirror_mode": {
    "name": "ipython",
    "version": 3
   },
   "file_extension": ".py",
   "mimetype": "text/x-python",
   "name": "python",
   "nbconvert_exporter": "python",
   "pygments_lexer": "ipython3",
   "version": "3.9.7"
  }
 },
 "nbformat": 4,
 "nbformat_minor": 5
}
