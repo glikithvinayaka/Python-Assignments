{
 "cells": [
  {
   "cell_type": "markdown",
   "id": "a4c6924d",
   "metadata": {},
   "source": [
    "## A while loops starts with a while keyword followed by () and {} the curly brackets contain executable codes1,2,3.The loop executes till the condition is true,when the condition turns false,code4 is run.\n",
    "while (condition){\n",
    "    code1\n",
    "    code2\n",
    "    code3\n",
    "}\n",
    "##code4\n",
    "\n",
    " "
   ]
  },
  {
   "cell_type": "markdown",
   "id": "5507438a",
   "metadata": {},
   "source": [
    "---"
   ]
  },
  {
   "cell_type": "code",
   "execution_count": 11,
   "id": "cbe0227e",
   "metadata": {},
   "outputs": [],
   "source": [
    "#while(condition){\n",
    " #   executable code1\n",
    "  #  executable code2\n",
    "   # executable code3   #n python we skip the () and curly brackets.If the condition is true,executable lines 1,2,3 \n",
    "#}                     #are run.when the condition becomes false,the executable line4 is run.\n",
    "    \n",
    "#else:\n",
    "#executable code4  "
   ]
  },
  {
   "cell_type": "code",
   "execution_count": 12,
   "id": "645757a7",
   "metadata": {},
   "outputs": [],
   "source": [
    "#while condition:\n",
    " #   executable code1\n",
    "  #  executable code2\n",
    "   # executable code3   #n python we skip the () and curly brackets.If the condition is true,executable lines 1,2,3 \n",
    "                        #are run.when the condition becomes false,the executable line4 is run.\n",
    "    \n",
    "#executable code4       #Python in this case understands when to run executable code 4 due to the indentations.\n",
    "    "
   ]
  },
  {
   "cell_type": "code",
   "execution_count": null,
   "id": "710f18f9",
   "metadata": {},
   "outputs": [],
   "source": []
  },
  {
   "cell_type": "code",
   "execution_count": 13,
   "id": "694c1b83",
   "metadata": {},
   "outputs": [],
   "source": [
    "while False:\n",
    "    print('hello')"
   ]
  },
  {
   "cell_type": "code",
   "execution_count": 4,
   "id": "6744011b",
   "metadata": {},
   "outputs": [
    {
     "ename": "SyntaxError",
     "evalue": "invalid syntax (Temp/ipykernel_8900/2567265246.py, line 2)",
     "output_type": "error",
     "traceback": [
      "\u001b[1;36m  File \u001b[1;32m\"C:\\Users\\Lenovo\\AppData\\Local\\Temp/ipykernel_8900/2567265246.py\"\u001b[1;36m, line \u001b[1;32m2\u001b[0m\n\u001b[1;33m    print('hello world') 00   ##press 00 in your keyword to restart kernel\u001b[0m\n\u001b[1;37m                         ^\u001b[0m\n\u001b[1;31mSyntaxError\u001b[0m\u001b[1;31m:\u001b[0m invalid syntax\n"
     ]
    }
   ],
   "source": [
    "while True:\n",
    "    print('hello world')   ##press 00 in your keyword to restart kernel"
   ]
  },
  {
   "cell_type": "code",
   "execution_count": 5,
   "id": "be318ed2",
   "metadata": {},
   "outputs": [
    {
     "name": "stdout",
     "output_type": "stream",
     "text": [
      "0\n",
      "1\n",
      "2\n",
      "3\n",
      "4\n",
      "5\n",
      "6\n",
      "7\n",
      "8\n",
      "9\n",
      "10\n",
      "11\n"
     ]
    }
   ],
   "source": [
    "counter = 0\n",
    "while counter<12 :\n",
    "    print(counter)\n",
    "    counter=counter+1"
   ]
  },
  {
   "cell_type": "code",
   "execution_count": 6,
   "id": "adf741a6",
   "metadata": {},
   "outputs": [
    {
     "name": "stdout",
     "output_type": "stream",
     "text": [
      "The count is: 0\n",
      "The count is: 1\n",
      "The count is: 2\n",
      "The count is: 3\n",
      "The count is: 4\n",
      "The count is: 5\n",
      "Looping Done\n"
     ]
    }
   ],
   "source": [
    "#Example 2\n",
    "x = 0\n",
    "while (x < 6):\n",
    "   print ('The count is:',x)\n",
    "   x = x + 1\n",
    "\n",
    "print (\"Looping Done\")"
   ]
  },
  {
   "cell_type": "code",
   "execution_count": 7,
   "id": "ef15e8a0",
   "metadata": {},
   "outputs": [
    {
     "name": "stdout",
     "output_type": "stream",
     "text": [
      "0  is  less than 5\n",
      "1  is  less than 5\n",
      "2  is  less than 5\n",
      "3  is  less than 5\n",
      "4  is  less than 5\n",
      "5  is not less than 5\n"
     ]
    }
   ],
   "source": [
    "#Using else statement\n",
    "\n",
    "count = 0\n",
    "while count < 5:\n",
    "   print (count, \" is  less than 5\")\n",
    "   count = count + 1\n",
    "else:\n",
    "   print (count, \" is not less than 5\")"
   ]
  },
  {
   "cell_type": "code",
   "execution_count": 8,
   "id": "58af893d",
   "metadata": {},
   "outputs": [
    {
     "name": "stdout",
     "output_type": "stream",
     "text": [
      "0  is less than 5\n",
      "1  is less than 5\n",
      "2  is less than 5\n",
      "3  is less than 5\n",
      "4  is less than 5\n",
      "5  is not less than 5\n"
     ]
    }
   ],
   "source": [
    "#print the same result without the else statement\n",
    "\n",
    "count=0\n",
    "while count<5:\n",
    "    print(count,\" is less than 5\")\n",
    "    count=count+1\n",
    "print(count,\" is not less than 5\")"
   ]
  },
  {
   "cell_type": "code",
   "execution_count": 9,
   "id": "1999316e",
   "metadata": {},
   "outputs": [
    {
     "name": "stdout",
     "output_type": "stream",
     "text": [
      "0 is less than 5\n",
      "1 is less than 5\n",
      "2 is less than 5\n",
      "3 is less than 5\n",
      "4 is less than 5\n",
      "5 is not less than 5\n"
     ]
    }
   ],
   "source": [
    "#2ND way\n",
    "c=0\n",
    "while c<5:\n",
    "    print(c, \"is less than 5\")\n",
    "    c=c+1\n",
    "print (c, \"is not less than 5\")\n"
   ]
  },
  {
   "cell_type": "markdown",
   "id": "cfc64a04",
   "metadata": {},
   "source": [
    "## This is how you create headers!!!"
   ]
  },
  {
   "cell_type": "markdown",
   "id": "c3e04d22",
   "metadata": {},
   "source": []
  },
  {
   "cell_type": "code",
   "execution_count": null,
   "id": "7c3c71b9",
   "metadata": {},
   "outputs": [],
   "source": []
  }
 ],
 "metadata": {
  "kernelspec": {
   "display_name": "Python 3 (ipykernel)",
   "language": "python",
   "name": "python3"
  },
  "language_info": {
   "codemirror_mode": {
    "name": "ipython",
    "version": 3
   },
   "file_extension": ".py",
   "mimetype": "text/x-python",
   "name": "python",
   "nbconvert_exporter": "python",
   "pygments_lexer": "ipython3",
   "version": "3.9.7"
  }
 },
 "nbformat": 4,
 "nbformat_minor": 5
}
