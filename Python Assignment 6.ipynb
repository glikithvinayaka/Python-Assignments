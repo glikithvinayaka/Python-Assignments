{
 "cells": [
  {
   "cell_type": "code",
   "execution_count": 1,
   "metadata": {},
   "outputs": [
    {
     "data": {
      "text/plain": [
       "2"
      ]
     },
     "execution_count": 1,
     "metadata": {},
     "output_type": "execute_result"
    }
   ],
   "source": [
    "x=2\n",
    "x"
   ]
  },
  {
   "cell_type": "code",
   "execution_count": 2,
   "metadata": {},
   "outputs": [
    {
     "data": {
      "text/plain": [
       "int"
      ]
     },
     "execution_count": 2,
     "metadata": {},
     "output_type": "execute_result"
    }
   ],
   "source": [
    "type(x)"
   ]
  },
  {
   "cell_type": "code",
   "execution_count": 3,
   "metadata": {},
   "outputs": [
    {
     "data": {
      "text/plain": [
       "2.5"
      ]
     },
     "execution_count": 3,
     "metadata": {},
     "output_type": "execute_result"
    }
   ],
   "source": [
    "y=2.5\n",
    "y"
   ]
  },
  {
   "cell_type": "code",
   "execution_count": 4,
   "metadata": {},
   "outputs": [
    {
     "data": {
      "text/plain": [
       "'Hello'"
      ]
     },
     "execution_count": 4,
     "metadata": {},
     "output_type": "execute_result"
    }
   ],
   "source": [
    "a=\"Hello\"\n",
    "a"
   ]
  },
  {
   "cell_type": "code",
   "execution_count": 5,
   "metadata": {},
   "outputs": [
    {
     "data": {
      "text/plain": [
       "'23'"
      ]
     },
     "execution_count": 5,
     "metadata": {},
     "output_type": "execute_result"
    }
   ],
   "source": [
    "B='23'\n",
    "B"
   ]
  },
  {
   "cell_type": "code",
   "execution_count": 6,
   "metadata": {},
   "outputs": [
    {
     "data": {
      "text/plain": [
       "str"
      ]
     },
     "execution_count": 6,
     "metadata": {},
     "output_type": "execute_result"
    }
   ],
   "source": [
    "type(a)\n",
    "type(B)"
   ]
  },
  {
   "cell_type": "code",
   "execution_count": 7,
   "metadata": {},
   "outputs": [],
   "source": [
    "q1=True\n",
    "q2=False"
   ]
  },
  {
   "cell_type": "code",
   "execution_count": 8,
   "metadata": {},
   "outputs": [
    {
     "data": {
      "text/plain": [
       "bool"
      ]
     },
     "execution_count": 8,
     "metadata": {},
     "output_type": "execute_result"
    }
   ],
   "source": [
    "type(q1)"
   ]
  },
  {
   "cell_type": "code",
   "execution_count": 9,
   "metadata": {},
   "outputs": [
    {
     "data": {
      "text/plain": [
       "bool"
      ]
     },
     "execution_count": 9,
     "metadata": {},
     "output_type": "execute_result"
    }
   ],
   "source": [
    "type(q2)"
   ]
  },
  {
   "cell_type": "code",
   "execution_count": 10,
   "metadata": {},
   "outputs": [
    {
     "name": "stdout",
     "output_type": "stream",
     "text": [
      "100\n",
      "<class 'int'>\n",
      "100\n",
      "<class 'str'>\n"
     ]
    }
   ],
   "source": [
    "n=100\n",
    "type(n)\n",
    "f=float(n)\n",
    "print(n)\n",
    "print(type(n))\n",
    "\n",
    "s=str(n)\n",
    "print(s)\n",
    "print(type(s))"
   ]
  },
  {
   "cell_type": "code",
   "execution_count": 72,
   "metadata": {},
   "outputs": [
    {
     "name": "stdout",
     "output_type": "stream",
     "text": [
      "132\n",
      "<class 'int'>\n",
      "<class 'float'>\n"
     ]
    }
   ],
   "source": [
    "s='132.65'\n",
    "n=int(float(s))\n",
    "print(n)\n",
    "print(type(n))\n",
    "f=float(s)\n",
    "print(type(f))"
   ]
  },
  {
   "cell_type": "code",
   "execution_count": 11,
   "metadata": {},
   "outputs": [
    {
     "name": "stdout",
     "output_type": "stream",
     "text": [
      "('AA', 'AB', 'AC', 4, 6, 8, 9, True)\n",
      "<class 'tuple'>\n",
      "('AA', 'AB', 'AC', 4, 6, 8, '10', 'AA', 'AB', True, False)\n",
      "<class 'tuple'>\n",
      "8\n",
      "11\n",
      "<class 'tuple'>\n",
      "<class 'str'>\n",
      "6\n",
      "False\n",
      "True\n",
      "True\n",
      "('AB', 'AC', 4)\n",
      "('AA', 'AB', 'AC', 4)\n",
      "('AB', 'AC', 4, 6, 8, 9)\n"
     ]
    }
   ],
   "source": [
    "my_tuple=(\"AA\",\"AB\",\"AC\",4,6,8,9,True)\n",
    "print(my_tuple)\n",
    "print(type(my_tuple))\n",
    "\n",
    "my_tuple1=(\"AA\",\"AB\",\"AC\",4,6,8,'10',\"AA\",\"AB\",True,False)\n",
    "print(my_tuple1)\n",
    "print(type(my_tuple1))\n",
    "\n",
    "print(len(my_tuple))\n",
    "print(len(my_tuple1))\n",
    "\n",
    "a=('tppl',)\n",
    "print(type(a))\n",
    "b=('tppl')\n",
    "print(type(b))\n",
    "\n",
    "print(my_tuple[4])\n",
    "print(my_tuple1[10])\n",
    "\n",
    "print(my_tuple[-1])\n",
    "print(my_tuple1[-2])\n",
    "\n",
    "print(my_tuple[1:4])\n",
    "print(my_tuple[:4])\n",
    "print(my_tuple[1:-1])"
   ]
  },
  {
   "cell_type": "code",
   "execution_count": 12,
   "metadata": {},
   "outputs": [
    {
     "name": "stdout",
     "output_type": "stream",
     "text": [
      "['Mark', 1, 45, 67, 'show', 'cena']\n",
      "['Mark', 1, 45, 67, 'show', 'cena', 'rock']\n",
      "['Mark', 1, 45, 67, 'cena', 'rock']\n",
      "[1, 45, 67, 'cena', 'rock']\n",
      "[1, 'orton', 45, 67, 'cena', 'rock']\n",
      "67\n",
      "cena\n",
      "['orton', 45, 67]\n",
      "['orton', 45, 67, 'cena']\n"
     ]
    }
   ],
   "source": [
    "first_list=['Mark',1,45,67,'show','cena']\n",
    "print(first_list)\n",
    "first_list.append('rock')\n",
    "print(first_list)\n",
    "first_list.remove('show')\n",
    "print(first_list)\n",
    "first_list.pop(0)\n",
    "print(first_list)\n",
    "first_list.insert(1,'orton')\n",
    "print(first_list)\n",
    "print(first_list[3])\n",
    "print(first_list[-2])\n",
    "print(first_list[1:4])\n",
    "print(first_list[1:-1])"
   ]
  },
  {
   "cell_type": "code",
   "execution_count": 13,
   "metadata": {},
   "outputs": [
    {
     "name": "stdout",
     "output_type": "stream",
     "text": [
      "{'john': 'john@abc.in', 'Kelly': 'kelly@ghj.com', 'id': [23, 81]}\n",
      "dict_keys(['john', 'Kelly', 'id'])\n",
      "dict_values(['john@abc.in', 'kelly@ghj.com', [23, 81]])\n",
      "john@abc.in\n",
      "[23, 81]\n",
      "{'john': 'john@abc.in', 'Kelly': 'kelly@ghj.com', 'id': [32, 18]}\n",
      "{'john': 'john@abc.in', 'Kelly': 'kelly@ghj.com'}\n"
     ]
    }
   ],
   "source": [
    "first_dict={'john':'john@abc.in','Kelly':'kelly@ghj.com','id':[23,81]}\n",
    "print(first_dict)\n",
    "print(first_dict.keys())\n",
    "print(first_dict.values())\n",
    "print(first_dict['john'])\n",
    "print(first_dict['id'])\n",
    "first_dict.update({'id':[32,18]})\n",
    "print(first_dict)\n",
    "del first_dict['id']\n",
    "print(first_dict)"
   ]
  },
  {
   "cell_type": "code",
   "execution_count": 14,
   "metadata": {},
   "outputs": [
    {
     "name": "stdout",
     "output_type": "stream",
     "text": [
      "{'mercedes', 'ferrari', 'audi', 'bmw', 'ford'}\n",
      "<class 'set'>\n",
      "{'mercedes', 'ferrari', 4, 'skoda', 'audi', 'lamborghini', 'porsche', 'bmw', 'ford'}\n",
      "{'mercedes', 'audi', 'ferrari'}\n"
     ]
    }
   ],
   "source": [
    "autosurvey=set(['audi','bmw','ferrari','ford','mercedes','mercedes'])\n",
    "print(autosurvey)\n",
    "print(type(autosurvey))\n",
    "autosurvey1={'ferrari', 'mercedes', 'ford', 'bmw', 'audi'}\n",
    "autosurvey2={'ferrari','mercedes','lamborghini','audi','porsche',4,'skoda'}\n",
    "combinedset=autosurvey1 | autosurvey2\n",
    "print(combinedset)\n",
    "commonset=autosurvey1 & autosurvey2\n",
    "print(commonset)"
   ]
  },
  {
   "cell_type": "code",
   "execution_count": 15,
   "metadata": {},
   "outputs": [
    {
     "name": "stdout",
     "output_type": "stream",
     "text": [
      "True\n",
      "False\n"
     ]
    }
   ],
   "source": [
    "first_list=['Mark',1,45,67,'show','cena']\n",
    "print('Mark' in first_list)\n",
    "print('t' in 'encycloedia')"
   ]
  },
  {
   "cell_type": "code",
   "execution_count": 78,
   "metadata": {},
   "outputs": [
    {
     "name": "stdout",
     "output_type": "stream",
     "text": [
      "['Mark', 1, 45, 67, 'show', 'cena', 'audi', 'bmw', 'ferrari', 'ford', 'mercedes', 'mercedes']\n",
      "[1, 2, 3, 4, 5, 6, 7, 8]\n",
      "likith vinayaka\n"
     ]
    }
   ],
   "source": [
    "list1=['Mark',1,45,67,'show','cena']\n",
    "list2=['audi','bmw','ferrari','ford','mercedes','mercedes']\n",
    "a=list1+list2\n",
    "print(a)\n",
    "s=[1,2,3,4]\n",
    "v=[5,6,7,8]\n",
    "c=s+v\n",
    "print(c)\n",
    "\n",
    "firstname='likith'\n",
    "lastname='vinayaka'\n",
    "fullname=firstname+' '+lastname\n",
    "print(fullname)"
   ]
  },
  {
   "cell_type": "code",
   "execution_count": 79,
   "metadata": {},
   "outputs": [
    {
     "name": "stdout",
     "output_type": "stream",
     "text": [
      "[1, 2, 3, 4, 5, 1, 2, 3, 4, 5, 1, 2, 3, 4, 5]\n",
      "friendfriendfriendfriendfriend\n"
     ]
    }
   ],
   "source": [
    "a=[1,2,3,4,5]*3\n",
    "print(a)\n",
    "b='friend'*5\n",
    "print(b)"
   ]
  },
  {
   "cell_type": "code",
   "execution_count": 2,
   "metadata": {},
   "outputs": [
    {
     "name": "stdout",
     "output_type": "stream",
     "text": [
      "9\n",
      "(24, 181, 94)\n",
      "bruce lee\n"
     ]
    }
   ],
   "source": [
    "def sum(a,b):\n",
    "    c=a+b\n",
    "    return c\n",
    "c=sum(4,5)\n",
    "print(c)\n",
    "\n",
    "def profile():\n",
    "    age=24\n",
    "    height=181\n",
    "    weight=94\n",
    "    return age,height,weight\n",
    "print(profile())\n",
    "\n",
    "def fname(a,b):\n",
    "    fname1=a+' '+b\n",
    "    return fname1\n",
    "print(fname('bruce','lee'))"
   ]
  },
  {
   "cell_type": "code",
   "execution_count": 12,
   "metadata": {},
   "outputs": [
    {
     "name": "stdout",
     "output_type": "stream",
     "text": [
      "((0, 'apple'), (1, 'mango'), (2, 'pine'))\n",
      "0 apple\n",
      "1 mango\n",
      "2 pine\n",
      "{'apple': 0, 'mango': 1, 'pine': 2}\n"
     ]
    }
   ],
   "source": [
    "x=('apple','mango','pine')\n",
    "y=enumerate(x)\n",
    "print(tuple(y))\n",
    "\n",
    "for pos,name in enumerate(x):\n",
    "    print(pos,name)\n",
    "\n",
    "store=dict((name,pos) for pos,name in enumerate(x))\n",
    "print(store)"
   ]
  },
  {
   "cell_type": "code",
   "execution_count": 1,
   "metadata": {},
   "outputs": [
    {
     "name": "stdout",
     "output_type": "stream",
     "text": [
      "Hi There\n",
      "Hi There\n",
      "Hi There\n",
      "Hi There\n",
      "Hi There\n",
      "Hi There\n"
     ]
    }
   ],
   "source": [
    "for i in range(6):\n",
    "    print('Hi There')"
   ]
  },
  {
   "cell_type": "code",
   "execution_count": 3,
   "metadata": {},
   "outputs": [
    {
     "data": {
      "text/plain": [
       "range(0, 5)"
      ]
     },
     "execution_count": 3,
     "metadata": {},
     "output_type": "execute_result"
    }
   ],
   "source": [
    "range(5)"
   ]
  },
  {
   "cell_type": "code",
   "execution_count": 4,
   "metadata": {},
   "outputs": [
    {
     "name": "stdout",
     "output_type": "stream",
     "text": [
      "0\n",
      "1\n",
      "2\n",
      "3\n",
      "4\n",
      "5\n"
     ]
    }
   ],
   "source": [
    "for i in range(6):\n",
    "    print(i)"
   ]
  },
  {
   "cell_type": "code",
   "execution_count": 16,
   "metadata": {},
   "outputs": [
    {
     "name": "stdout",
     "output_type": "stream",
     "text": [
      "j is equal  to: 10\n",
      "j is equal  to: 100\n",
      "j is equal  to: 1000\n"
     ]
    }
   ],
   "source": [
    "mylist=[10,100,1000]\n",
    "\n",
    "for j in mylist:\n",
    "    print('j is equal  to:',j)"
   ]
  },
  {
   "cell_type": "code",
   "execution_count": 17,
   "metadata": {},
   "outputs": [
    {
     "data": {
      "text/plain": [
       "[0, 1, 2, 3, 4]"
      ]
     },
     "execution_count": 17,
     "metadata": {},
     "output_type": "execute_result"
    }
   ],
   "source": [
    "list(range(5))"
   ]
  },
  {
   "cell_type": "code",
   "execution_count": 18,
   "metadata": {},
   "outputs": [
    {
     "name": "stdout",
     "output_type": "stream",
     "text": [
      "s\n",
      "i\n",
      "m\n",
      "p\n",
      "l\n",
      "i\n",
      "l\n",
      "e\n",
      "a\n",
      "r\n",
      "n\n"
     ]
    }
   ],
   "source": [
    "for i in 'simplilearn':\n",
    "    print(i)"
   ]
  },
  {
   "cell_type": "code",
   "execution_count": 19,
   "metadata": {},
   "outputs": [
    {
     "name": "stdout",
     "output_type": "stream",
     "text": [
      "physics\n",
      "chemistry\n",
      "mathematics\n",
      "mathematics\n"
     ]
    }
   ],
   "source": [
    "subjects=['physics','chemistry','mathematics','computer science','english','kannada']\n",
    "for i in subjects:\n",
    "    print(i)\n",
    "    if i == 'mathematics':\n",
    "        print(i)\n",
    "        break"
   ]
  },
  {
   "cell_type": "code",
   "execution_count": 20,
   "metadata": {},
   "outputs": [
    {
     "name": "stdout",
     "output_type": "stream",
     "text": [
      "physics\n",
      "chemistry\n",
      "computer science\n",
      "english\n",
      "kannada\n"
     ]
    }
   ],
   "source": [
    "subjects=['physics','chemistry','mathematics','computer science','english','kannada']\n",
    "for i in subjects:\n",
    "    if i == 'mathematics':\n",
    "        continue\n",
    "    print(i)"
   ]
  },
  {
   "cell_type": "code",
   "execution_count": 21,
   "metadata": {},
   "outputs": [
    {
     "name": "stdout",
     "output_type": "stream",
     "text": [
      "0\n",
      "1\n",
      "2\n",
      "3\n",
      "4\n",
      "5\n",
      "6\n",
      "7\n",
      "loop exit\n"
     ]
    }
   ],
   "source": [
    "for i in range(8):\n",
    "    print(i)\n",
    "else:\n",
    "    print(\"loop exit\")"
   ]
  },
  {
   "cell_type": "code",
   "execution_count": 22,
   "metadata": {},
   "outputs": [
    {
     "name": "stdout",
     "output_type": "stream",
     "text": [
      "0\n",
      "1\n",
      "2\n",
      "3\n",
      "4\n"
     ]
    }
   ],
   "source": [
    "for i in range(8):\n",
    "    if i==5:\n",
    "        break\n",
    "    print(i)\n",
    "else:\n",
    "    print(\"loop exit\")"
   ]
  },
  {
   "cell_type": "code",
   "execution_count": null,
   "metadata": {},
   "outputs": [],
   "source": [
    "while True:\n",
    "    print('Hello')"
   ]
  },
  {
   "cell_type": "code",
   "execution_count": 1,
   "metadata": {},
   "outputs": [
    {
     "name": "stdout",
     "output_type": "stream",
     "text": [
      "count= 0\n",
      "count= 1\n",
      "count= 2\n",
      "count= 3\n",
      "count= 4\n",
      "count= 5\n",
      "count= 6\n",
      "count= 7\n",
      "count= 8\n",
      "count= 9\n",
      "count= 10\n",
      "count= 11\n"
     ]
    }
   ],
   "source": [
    "count=0\n",
    "while count<12:\n",
    "    print('count=',count)\n",
    "    count+=1"
   ]
  },
  {
   "cell_type": "code",
   "execution_count": 4,
   "metadata": {},
   "outputs": [
    {
     "name": "stdout",
     "output_type": "stream",
     "text": [
      "count is= 0\n",
      "count is= 1\n",
      "count is= 2\n",
      "count is= 3\n",
      "count is= 4\n",
      "count is= 5\n",
      "Loopin Done\n"
     ]
    }
   ],
   "source": [
    "x=0\n",
    "while x<6:\n",
    "    print('count is=',x)\n",
    "    x+=1\n",
    "print('Looping Done')"
   ]
  },
  {
   "cell_type": "code",
   "execution_count": 8,
   "metadata": {},
   "outputs": [
    {
     "name": "stdout",
     "output_type": "stream",
     "text": [
      "0 is less than 5\n",
      "1 is less than 5\n",
      "2 is less than 5\n",
      "3 is less than 5\n",
      "4 is less than 5\n",
      "5 is not less than 5\n"
     ]
    }
   ],
   "source": [
    "count=0\n",
    "while count<5:\n",
    "    print(count,'is less than 5')\n",
    "    count+=1\n",
    "else:\n",
    "    print(count,'is not less than 5')"
   ]
  },
  {
   "cell_type": "code",
   "execution_count": 9,
   "metadata": {},
   "outputs": [
    {
     "name": "stdout",
     "output_type": "stream",
     "text": [
      "0 is less than 5\n",
      "1 is less than 5\n",
      "2 is less than 5\n",
      "3 is less than 5\n",
      "4 is less than 5\n",
      "5 is not less than 5\n"
     ]
    }
   ],
   "source": [
    "count=0\n",
    "while count<5:\n",
    "    print(count,'is less than 5')\n",
    "    count+=1\n",
    "print(count,'is not less than 5')"
   ]
  },
  {
   "cell_type": "code",
   "execution_count": 27,
   "metadata": {},
   "outputs": [
    {
     "name": "stdout",
     "output_type": "stream",
     "text": [
      "[ 33.33333333  33.33333333  33.33333333 333.33333333 333.33333333]\n",
      "1\n",
      "(5,)\n",
      "5\n",
      "int64\n",
      "2\n",
      "(2, 4)\n",
      "8\n",
      "int64\n"
     ]
    }
   ],
   "source": [
    "distance=[10,20,30,40,50]\n",
    "time=[0.3,0.6,0.9,0.12,0.15]\n",
    "\n",
    "import numpy as np\n",
    "\n",
    "np_distance=np.array(distance)\n",
    "np_time=np.array(time)\n",
    "\n",
    "speed=np_distance/np_time\n",
    "print(speed)\n",
    "\n",
    "twod=np.array([[1,2,3,4],[5,6,7,8]])\n",
    "print(np_distance.ndim)\n",
    "print(np_distance.shape)\n",
    "print(np_distance.size)\n",
    "print(np_distance.dtype)\n",
    "print(twod.ndim)\n",
    "print(twod.shape)\n",
    "print(twod.size)\n",
    "print(twod.dtype)"
   ]
  },
  {
   "cell_type": "code",
   "execution_count": 7,
   "metadata": {},
   "outputs": [
    {
     "name": "stdout",
     "output_type": "stream",
     "text": [
      "[[ 1  2]\n",
      " [ 3  4]\n",
      " [ 5  6]\n",
      " [ 7  8]\n",
      " [ 9 10]]\n"
     ]
    }
   ],
   "source": [
    "import numpy as np\n",
    "l=np.array([1,2,3,4,5,6,7,8,9,10])\n",
    "newr=l.reshape(5,2)\n",
    "print(newr)"
   ]
  },
  {
   "cell_type": "code",
   "execution_count": 21,
   "metadata": {},
   "outputs": [
    {
     "name": "stdout",
     "output_type": "stream",
     "text": [
      "[10 12 11  1  2  3]\n",
      "1\n",
      "[[10 12 11]\n",
      " [ 1  2  3]\n",
      " [ 1  2 46]\n",
      " [67 89 90]]\n",
      "[[12 11]\n",
      " [ 2 46]]\n"
     ]
    }
   ],
   "source": [
    "import numpy as np\n",
    "m=np.array([[10,12,11,1,2,3],[1,2,46,67,89,90]])\n",
    "k=m.reshape(4,3)\n",
    "a=m[0]\n",
    "b=m[0][3]\n",
    "print(a)\n",
    "print(b)\n",
    "print(k)\n",
    "q=m[:,1:3]\n",
    "print(q)"
   ]
  },
  {
   "cell_type": "code",
   "execution_count": 20,
   "metadata": {},
   "outputs": [
    {
     "name": "stdout",
     "output_type": "stream",
     "text": [
      "[1, 2, 3, 4, 5, 6, 6, 7, 8, 9, 0, 1]\n"
     ]
    }
   ],
   "source": [
    "import numpy as np\n",
    "\n",
    "a=[1,2,3,4,5,6]\n",
    "b=[6,7,8,9,0,1]\n",
    "p=np.array(a)\n",
    "q=np.array(b)\n",
    "c=a+b\n",
    "print(c)"
   ]
  },
  {
   "cell_type": "code",
   "execution_count": 26,
   "metadata": {},
   "outputs": [
    {
     "name": "stdout",
     "output_type": "stream",
     "text": [
      "[[ 1  2  3]\n",
      " [67 89 90]]\n"
     ]
    }
   ],
   "source": [
    "import numpy as np\n",
    "m=np.array([[10,12,11,1,2,3],[1,2,46,67,89,90]])\n",
    "q=m[0:4,3:6]\n",
    "print(q)"
   ]
  },
  {
   "cell_type": "code",
   "execution_count": 30,
   "metadata": {},
   "outputs": [
    {
     "name": "stdout",
     "output_type": "stream",
     "text": [
      "[False False False False False False  True  True  True  True]\n",
      "bool\n"
     ]
    },
    {
     "data": {
      "text/plain": [
       "array([ 7,  8,  9, 10])"
      ]
     },
     "execution_count": 30,
     "metadata": {},
     "output_type": "execute_result"
    }
   ],
   "source": [
    "import numpy as np\n",
    "l=np.array([1,2,3,4,5,6,7,8,9,10])\n",
    "s=l>6\n",
    "print(s)\n",
    "print(s.dtype)\n",
    "l[s]\n"
   ]
  },
  {
   "cell_type": "code",
   "execution_count": null,
   "metadata": {},
   "outputs": [],
   "source": []
  }
 ],
 "metadata": {
  "kernelspec": {
   "display_name": "Python 3",
   "language": "python",
   "name": "python3"
  },
  "language_info": {
   "codemirror_mode": {
    "name": "ipython",
    "version": 3
   },
   "file_extension": ".py",
   "mimetype": "text/x-python",
   "name": "python",
   "nbconvert_exporter": "python",
   "pygments_lexer": "ipython3",
   "version": "3.7.6"
  }
 },
 "nbformat": 4,
 "nbformat_minor": 4
}
