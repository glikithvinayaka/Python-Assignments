{
 "cells": [
  {
   "cell_type": "code",
   "execution_count": 1,
   "id": "444dea29",
   "metadata": {},
   "outputs": [],
   "source": [
    "#We create a list called \"Distance\" and \"Time\"\n",
    "distance = [10,15,17,26]\n",
    "time = [.30,.47,.55,1.20]"
   ]
  },
  {
   "cell_type": "markdown",
   "id": "a95b28a3",
   "metadata": {},
   "source": [
    "---"
   ]
  },
  {
   "cell_type": "code",
   "execution_count": 2,
   "id": "263c4344",
   "metadata": {},
   "outputs": [],
   "source": [
    "#Deleting Elements of a list\n",
    "list1 =[2,4,5,8,9,7]"
   ]
  },
  {
   "cell_type": "code",
   "execution_count": 3,
   "id": "da5e8d15",
   "metadata": {},
   "outputs": [],
   "source": [
    "del list1[2:5]"
   ]
  },
  {
   "cell_type": "code",
   "execution_count": 4,
   "id": "901f77be",
   "metadata": {},
   "outputs": [
    {
     "name": "stdout",
     "output_type": "stream",
     "text": [
      "[2, 4, 7]\n"
     ]
    }
   ],
   "source": [
    "print(list1)"
   ]
  },
  {
   "cell_type": "code",
   "execution_count": 5,
   "id": "294aac62",
   "metadata": {},
   "outputs": [],
   "source": [
    "#Numpy ndarrays are better than lists as mathematical functions can be applied \n",
    "import numpy as np"
   ]
  },
  {
   "cell_type": "code",
   "execution_count": 6,
   "id": "d6c31213",
   "metadata": {},
   "outputs": [],
   "source": [
    "np_distance=np.array(distance)"
   ]
  },
  {
   "cell_type": "code",
   "execution_count": 7,
   "id": "dae20a28",
   "metadata": {},
   "outputs": [],
   "source": [
    "np_time= np.array(time)"
   ]
  },
  {
   "cell_type": "code",
   "execution_count": 8,
   "id": "9205147c",
   "metadata": {},
   "outputs": [],
   "source": [
    "speed = np_distance/np_time"
   ]
  },
  {
   "cell_type": "code",
   "execution_count": 9,
   "id": "d3398368",
   "metadata": {},
   "outputs": [
    {
     "data": {
      "text/plain": [
       "array([33.33333333, 31.91489362, 30.90909091, 21.66666667])"
      ]
     },
     "execution_count": 9,
     "metadata": {},
     "output_type": "execute_result"
    }
   ],
   "source": [
    "speed"
   ]
  },
  {
   "cell_type": "code",
   "execution_count": 49,
   "id": "450a9fa4",
   "metadata": {},
   "outputs": [],
   "source": [
    "#In NumPy, a scalar is any object that you put in an array.\n",
    "#NumPy ensures all scalars in an array have same types.\n",
    "#The basic ndarray is created using an array function in NumPy as follows −\n",
    "\n",
    "#numpy.array "
   ]
  },
  {
   "cell_type": "code",
   "execution_count": 10,
   "id": "b1584676",
   "metadata": {},
   "outputs": [
    {
     "name": "stdout",
     "output_type": "stream",
     "text": [
      "int32\n"
     ]
    }
   ],
   "source": [
    "#The NumPy array object has a property called dtype that returns the data type of the array:\n",
    "import numpy as np\n",
    "\n",
    "arr1 = np.array([8, 9, 3, 4])\n",
    "\n",
    "print(arr1.dtype)\n"
   ]
  },
  {
   "cell_type": "code",
   "execution_count": 11,
   "id": "2b736f14",
   "metadata": {},
   "outputs": [
    {
     "name": "stdout",
     "output_type": "stream",
     "text": [
      "<U6\n"
     ]
    }
   ],
   "source": [
    "#Get the data type of an array containing strings:\n",
    "\n",
    "import numpy as np\n",
    "\n",
    "arr2 = np.array(['apple', 'banana', 'cherry'])\n",
    "\n",
    "print(arr2.dtype)"
   ]
  },
  {
   "cell_type": "markdown",
   "id": "820c9345",
   "metadata": {},
   "source": [
    "-----"
   ]
  },
  {
   "cell_type": "markdown",
   "id": "5ca16357",
   "metadata": {},
   "source": [
    "#numpy.ndarray.ndim() function return the number of dimensions of an array."
   ]
  },
  {
   "cell_type": "code",
   "execution_count": 12,
   "id": "b3068483",
   "metadata": {},
   "outputs": [
    {
     "name": "stdout",
     "output_type": "stream",
     "text": [
      "1\n"
     ]
    }
   ],
   "source": [
    "import numpy as np\n",
    "  \n",
    "arr1 = np.array([1, 2, 3, 4])\n",
    "  \n",
    "bcd = arr1.ndim\n",
    "  \n",
    "print (bcd)"
   ]
  },
  {
   "cell_type": "code",
   "execution_count": 53,
   "id": "023cda6d",
   "metadata": {},
   "outputs": [
    {
     "name": "stdout",
     "output_type": "stream",
     "text": [
      "2\n"
     ]
    }
   ],
   "source": [
    "import numpy as np\n",
    "  \n",
    "arr2 = [[1, 2, 3], [4, 5, 6]]\n",
    "  \n",
    "efg = np.ndim(arr2)\n",
    "  \n",
    "print (efg)"
   ]
  },
  {
   "cell_type": "code",
   "execution_count": 13,
   "id": "75ce3303",
   "metadata": {},
   "outputs": [],
   "source": [
    "np_city = np.array(['NYC','LA','Miami','Houston'])"
   ]
  },
  {
   "cell_type": "code",
   "execution_count": 14,
   "id": "28225999",
   "metadata": {},
   "outputs": [
    {
     "data": {
      "text/plain": [
       "1"
      ]
     },
     "execution_count": 14,
     "metadata": {},
     "output_type": "execute_result"
    }
   ],
   "source": [
    "np_city.ndim           #gives the number of dimensions of the ndarray"
   ]
  },
  {
   "cell_type": "code",
   "execution_count": 15,
   "id": "fb8495f2",
   "metadata": {},
   "outputs": [],
   "source": [
    "np_city_with_state = np.array([['NYC','LA','Miami','Houston'],['NY','CA','FL','TX']])"
   ]
  },
  {
   "cell_type": "code",
   "execution_count": 16,
   "id": "a9b9caf8",
   "metadata": {},
   "outputs": [
    {
     "data": {
      "text/plain": [
       "2"
      ]
     },
     "execution_count": 16,
     "metadata": {},
     "output_type": "execute_result"
    }
   ],
   "source": [
    "np_city_with_state.ndim"
   ]
  },
  {
   "cell_type": "markdown",
   "id": "d7bfbd14",
   "metadata": {},
   "source": [
    "#ndarray.shape\n",
    "#This array attribute returns a tuple consisting of array dimensions. It can also be used to resize the array."
   ]
  },
  {
   "cell_type": "code",
   "execution_count": 17,
   "id": "8dc7d6ce",
   "metadata": {},
   "outputs": [
    {
     "name": "stdout",
     "output_type": "stream",
     "text": [
      "(2, 3)\n"
     ]
    }
   ],
   "source": [
    "import numpy as np \n",
    "l = np.array([[1,2,3],[4,5,6]]) #which means that the array has 2 dimensions, \n",
    "                                #where the first dimension has 2 elements and the second has 3.\n",
    "print (l.shape)"
   ]
  },
  {
   "cell_type": "code",
   "execution_count": 18,
   "id": "f06a660b",
   "metadata": {},
   "outputs": [
    {
     "name": "stdout",
     "output_type": "stream",
     "text": [
      "[[1 2]\n",
      " [3 4]\n",
      " [5 6]]\n"
     ]
    }
   ],
   "source": [
    "# this resizes the ndarray l\n",
    "import numpy as np \n",
    "\n",
    "m = np.array([[1,2,3],[4,5,6]])  #In python,the default is row wise filling.\n",
    "m.shape = (3,2) \n",
    "print(m)"
   ]
  },
  {
   "cell_type": "code",
   "execution_count": 19,
   "id": "13bdb345",
   "metadata": {},
   "outputs": [],
   "source": [
    "#Reshaping arrays\n",
    "#Reshaping means changing the shape of an array.\n",
    "#The shape of an array is the number of elements in each dimension.\n",
    "#By reshaping we can add or remove dimensions or change number of elements in each dimension.\n",
    "\n"
   ]
  },
  {
   "cell_type": "code",
   "execution_count": 20,
   "id": "f5ffdf03",
   "metadata": {},
   "outputs": [
    {
     "name": "stdout",
     "output_type": "stream",
     "text": [
      "[[ 1  2  3]\n",
      " [ 4  5  6]\n",
      " [ 7  8  9]\n",
      " [10 11 12]]\n"
     ]
    }
   ],
   "source": [
    "#Convert the following 1-D array with 12 elements into a 2-D array.\n",
    "\n",
    "#The outermost dimension will have 4 arrays, each with 3 elements:\n",
    "\n",
    "import numpy as np\n",
    "\n",
    "arr51 = np.array([1, 2, 3, 4, 5, 6, 7, 8, 9, 10, 11, 12])\n",
    "\n",
    "newarr = arr51.reshape(4, 3)\n",
    "\n",
    "print(newarr)"
   ]
  },
  {
   "cell_type": "code",
   "execution_count": 21,
   "id": "089d2929",
   "metadata": {},
   "outputs": [
    {
     "name": "stdout",
     "output_type": "stream",
     "text": [
      "[[[ 1  2  3]\n",
      "  [ 4  5  6]]\n",
      "\n",
      " [[ 7  8  9]\n",
      "  [10 11 12]]]\n"
     ]
    }
   ],
   "source": [
    "#Convert the following 1-D array with 12 elements into a 3-D array.\n",
    "\n",
    "#The outermost dimension will have 2 arrays that contains 3 arrays, each with 2 elements:\n",
    "\n",
    "import numpy as np\n",
    "\n",
    "arr52 = np.array([1, 2, 3, 4, 5, 6, 7, 8, 9, 10, 11, 12])\n",
    "\n",
    "newarr1 = arr52.reshape(2, 2, 3) #the first component is the number of matrices(read:arrays),second rows,third columns\n",
    "                                  # Arrays are a collection of matrices()\n",
    "print(newarr1)"
   ]
  },
  {
   "cell_type": "code",
   "execution_count": 22,
   "id": "3317cd95",
   "metadata": {},
   "outputs": [
    {
     "name": "stdout",
     "output_type": "stream",
     "text": [
      "[[1 2 3 4]\n",
      " [5 6 7 8]]\n"
     ]
    }
   ],
   "source": [
    "#Try converting 1D array with 8 elements to a 2D array with 3 elements in each dimension\n",
    "import numpy as np\n",
    "\n",
    "arr53 = np.array([1, 2, 3, 4, 5, 6, 7, 8])\n",
    "\n",
    "newarr3 = arr53.reshape(2,4)\n",
    "\n",
    "print(newarr3)"
   ]
  },
  {
   "cell_type": "code",
   "execution_count": 23,
   "id": "baa74347",
   "metadata": {},
   "outputs": [
    {
     "name": "stdout",
     "output_type": "stream",
     "text": [
      "[[1 2]\n",
      " [3 4]\n",
      " [5 6]\n",
      " [7 8]]\n"
     ]
    }
   ],
   "source": [
    "#We can reshape an 8 elements 1D array into 4 elements in 2 rows 2D array \n",
    "#but we cannot reshape it into a 3 elements 3 rows 2D array as that would require 3x3 = 9 elements.\n",
    "import numpy as np\n",
    "\n",
    "arr54 = np.array([1, 2, 3, 4, 5, 6, 7, 8])  \n",
    "\n",
    "newarr4 = arr54.reshape(4, 2)\n",
    "\n",
    "print(newarr4)"
   ]
  },
  {
   "cell_type": "code",
   "execution_count": 24,
   "id": "e70ffa7d",
   "metadata": {},
   "outputs": [
    {
     "data": {
      "text/plain": [
       "(4,)"
      ]
     },
     "execution_count": 24,
     "metadata": {},
     "output_type": "execute_result"
    }
   ],
   "source": [
    "#Example\n",
    "np_city = np.array(['NYC','LA','Miami','Houston'])\n",
    "np_city.shape\n"
   ]
  },
  {
   "cell_type": "code",
   "execution_count": 25,
   "id": "f8a26c7d",
   "metadata": {},
   "outputs": [
    {
     "data": {
      "text/plain": [
       "(2, 4)"
      ]
     },
     "execution_count": 25,
     "metadata": {},
     "output_type": "execute_result"
    }
   ],
   "source": [
    "np_city_with_state = np.array([['NYC','LA','Miami','Houston'],['NY','CA','FL','TX']])\n",
    "np_city_with_state.shape\n"
   ]
  },
  {
   "cell_type": "markdown",
   "id": "436fb3bb",
   "metadata": {},
   "source": [
    "NDARRAYS-SIZE ATTRIBUTE"
   ]
  },
  {
   "cell_type": "code",
   "execution_count": 26,
   "id": "2a6211b4",
   "metadata": {},
   "outputs": [
    {
     "name": "stdout",
     "output_type": "stream",
     "text": [
      "8\n"
     ]
    }
   ],
   "source": [
    "#In Python, numpy.size() function count the number of elements along a given axis.\n",
    "# importing numpy\n",
    "import numpy as np\n",
    " \n",
    "# Creating a random array\n",
    "arr55 = np.array([[1, 2, 3, 4], [5, 6, 7, 8]])\n",
    " \n",
    "# By default, give the total number of elements.\n",
    "print(np.size(arr55))"
   ]
  },
  {
   "cell_type": "code",
   "execution_count": 68,
   "id": "c00a4510",
   "metadata": {},
   "outputs": [
    {
     "name": "stdout",
     "output_type": "stream",
     "text": [
      "2\n",
      "4\n"
     ]
    }
   ],
   "source": [
    "import numpy as np\n",
    " \n",
    "arr56 = np.array([[1, 2, 3, 4], [5, 6, 7, 8]])\n",
    " \n",
    "# count the number of elements along the axis.\n",
    "# Here rows and columns are being treated\n",
    "# as elements\n",
    " \n",
    "#gives no. of rows along x-axis\n",
    "print(np.size(arr56, 0))   #0 and 1 denotes the x and y axis respectively\n",
    " \n",
    "#gives no. of columns along y-axis\n",
    "print(np.size(arr56, 1))"
   ]
  },
  {
   "cell_type": "code",
   "execution_count": 27,
   "id": "084649a6",
   "metadata": {},
   "outputs": [
    {
     "data": {
      "text/plain": [
       "4"
      ]
     },
     "execution_count": 27,
     "metadata": {},
     "output_type": "execute_result"
    }
   ],
   "source": [
    "#Example\n",
    "np_city = np.array(['NYC','LA','Miami','Houston'])\n",
    "np_city.size"
   ]
  },
  {
   "cell_type": "code",
   "execution_count": 28,
   "id": "1197444b",
   "metadata": {},
   "outputs": [
    {
     "data": {
      "text/plain": [
       "8"
      ]
     },
     "execution_count": 28,
     "metadata": {},
     "output_type": "execute_result"
    }
   ],
   "source": [
    "np_city_with_state = np.array([['NYC','LA','Miami','Houston'],['NY','CA','FL','TX']])\n",
    "np_city_with_state.size\n"
   ]
  },
  {
   "cell_type": "markdown",
   "id": "ad5e3178",
   "metadata": {},
   "source": [
    "#The dtype() function is used to create a data type object. A numpy array is homogeneous, and contains elements described by a dtype object. \n",
    "#A dtype object can be constructed from different combinations of fundamental numeric types."
   ]
  },
  {
   "cell_type": "code",
   "execution_count": 29,
   "id": "4581eb54",
   "metadata": {},
   "outputs": [
    {
     "name": "stdout",
     "output_type": "stream",
     "text": [
      "int32\n"
     ]
    }
   ],
   "source": [
    "import numpy as np\n",
    "\n",
    "arr1 = np.array([1, 2, 3, 4])\n",
    "\n",
    "print(arr1.dtype)"
   ]
  },
  {
   "cell_type": "code",
   "execution_count": 72,
   "id": "a1c1fad9",
   "metadata": {},
   "outputs": [],
   "source": [
    "#Integers – This value is represented by int class. \n",
    "#It contains positive or negative whole numbers (without fraction or decimal). \n",
    "#In Python there is no limit to how long an integer value can be."
   ]
  },
  {
   "cell_type": "code",
   "execution_count": 31,
   "id": "604a89f8",
   "metadata": {},
   "outputs": [
    {
     "name": "stdout",
     "output_type": "stream",
     "text": [
      "<U6\n"
     ]
    }
   ],
   "source": [
    "import numpy as np\n",
    "\n",
    "arr2 = np.array(['apple', 'banana', 'cherry'])      #Unicode is a universal character encoding standard. It defines the way individual characters are represented in text files, web pages,etc\n",
    "\n",
    "print(arr2.dtype)"
   ]
  },
  {
   "cell_type": "code",
   "execution_count": 74,
   "id": "9ef4224f",
   "metadata": {},
   "outputs": [
    {
     "name": "stdout",
     "output_type": "stream",
     "text": [
      "[b'1' b'2' b'3' b'4']\n",
      "|S1\n"
     ]
    }
   ],
   "source": [
    "#Creating Arrays With a Defined Data Type\n",
    "import numpy as np\n",
    "\n",
    "arr3 = np.array([1, 2, 3, 4], dtype='S')     #b in output stands for bytes\n",
    "                                             #Strings can be used to represent data like special characters, characters,\n",
    "print(arr3)                                  #Bytes are used to represent low-level binary data structures.\n",
    "print(arr3.dtype)"
   ]
  },
  {
   "cell_type": "code",
   "execution_count": 33,
   "id": "70e8f23f",
   "metadata": {},
   "outputs": [
    {
     "name": "stdout",
     "output_type": "stream",
     "text": [
      "[1 2 3 4]\n",
      "int32\n"
     ]
    }
   ],
   "source": [
    "#Create an array with data type 4 bytes integer:\n",
    "import numpy as np\n",
    "\n",
    "arr4 = np.array([1, 2, 3, 4], dtype='i4')##int8, int16, int32, int64 can be replaced by equivalent string 'i1', 'i2','i4', etc. \n",
    "\n",
    "print(arr4)\n",
    "print(arr4.dtype)"
   ]
  },
  {
   "cell_type": "code",
   "execution_count": 34,
   "id": "4754f1b9",
   "metadata": {},
   "outputs": [],
   "source": [
    "#Basic Operations using Numpy\n",
    "#Vector addition of Arrays\n",
    "first_trial_cyclist = [10,15,17,26]\n",
    "second_trail_cyclist = [12,11,21,24]"
   ]
  },
  {
   "cell_type": "markdown",
   "id": "39721870",
   "metadata": {},
   "source": [
    "## Accesing array elements by indexing"
   ]
  },
  {
   "cell_type": "code",
   "execution_count": 35,
   "id": "ed6738c7",
   "metadata": {},
   "outputs": [],
   "source": [
    "import numpy as np\n",
    "\n",
    "np_first_trial_cyclist= np.array(first_trial_cyclist)\n",
    "\n",
    "np_second_trail_cyclist= np.array(second_trail_cyclist)"
   ]
  },
  {
   "cell_type": "code",
   "execution_count": 36,
   "id": "e92062ca",
   "metadata": {},
   "outputs": [],
   "source": [
    "total_distance = np_first_trial_cyclist+np_second_trail_cyclist"
   ]
  },
  {
   "cell_type": "code",
   "execution_count": 37,
   "id": "78fcda28",
   "metadata": {},
   "outputs": [
    {
     "data": {
      "text/plain": [
       "array([22, 26, 38, 50])"
      ]
     },
     "execution_count": 37,
     "metadata": {},
     "output_type": "execute_result"
    }
   ],
   "source": [
    "total_distance"
   ]
  },
  {
   "cell_type": "code",
   "execution_count": 38,
   "id": "9a959323",
   "metadata": {},
   "outputs": [
    {
     "data": {
      "text/plain": [
       "array([10, 15, 17, 26])"
      ]
     },
     "execution_count": 38,
     "metadata": {},
     "output_type": "execute_result"
    }
   ],
   "source": [
    "#Creating a 2D array using cyclist data\n",
    "cyclist_trials = np.array([[10,15,17,26],[12,11,21,24]])\n",
    "first_trial = cyclist_trials[0]             #We are selectively fetching the list from the array.This list can be treated\n",
    "first_trial                                  #as a subset of the main 2D array"
   ]
  },
  {
   "cell_type": "code",
   "execution_count": 39,
   "id": "e1dec3ed",
   "metadata": {},
   "outputs": [],
   "source": [
    "second_trial = cyclist_trials[1]"
   ]
  },
  {
   "cell_type": "code",
   "execution_count": 40,
   "id": "f1b7af53",
   "metadata": {},
   "outputs": [
    {
     "data": {
      "text/plain": [
       "array([12, 11, 21, 24])"
      ]
     },
     "execution_count": 40,
     "metadata": {},
     "output_type": "execute_result"
    }
   ],
   "source": [
    "second_trial"
   ]
  },
  {
   "cell_type": "code",
   "execution_count": 41,
   "id": "34e83044",
   "metadata": {},
   "outputs": [],
   "source": [
    "first_cyclist_first_trial = cyclist_trials[0][0]  # Gives us the 1st element of the first list"
   ]
  },
  {
   "cell_type": "code",
   "execution_count": 42,
   "id": "8e7cf9c8",
   "metadata": {},
   "outputs": [
    {
     "data": {
      "text/plain": [
       "10"
      ]
     },
     "execution_count": 42,
     "metadata": {},
     "output_type": "execute_result"
    }
   ],
   "source": [
    "first_cyclist_first_trial"
   ]
  },
  {
   "cell_type": "code",
   "execution_count": 43,
   "id": "e063e7ce",
   "metadata": {},
   "outputs": [],
   "source": [
    "first_cyclist_all_trials = cyclist_trials[:,0]    #the : operator selects all the rows,"
   ]
  },
  {
   "cell_type": "code",
   "execution_count": 44,
   "id": "deb7d3fb",
   "metadata": {},
   "outputs": [
    {
     "data": {
      "text/plain": [
       "array([10, 12])"
      ]
     },
     "execution_count": 44,
     "metadata": {},
     "output_type": "execute_result"
    }
   ],
   "source": [
    "first_cyclist_all_trials"
   ]
  },
  {
   "cell_type": "markdown",
   "id": "e160c1f0",
   "metadata": {},
   "source": [
    "## Slicing to access a range of values and create a subset"
   ]
  },
  {
   "cell_type": "code",
   "execution_count": 45,
   "id": "55fc5641",
   "metadata": {},
   "outputs": [
    {
     "data": {
      "text/plain": [
       "(2, 4)"
      ]
     },
     "execution_count": 45,
     "metadata": {},
     "output_type": "execute_result"
    }
   ],
   "source": [
    "cyclist_trials.shape           #shape function tells us the array will have 2 rows and 4 columns"
   ]
  },
  {
   "cell_type": "code",
   "execution_count": 46,
   "id": "4f660bc3",
   "metadata": {},
   "outputs": [],
   "source": [
    "two_cyclist_trail_data = cyclist_trials[:,1:3]  #In this case all rows but only col 1,2 data will be fetched\n",
    "                                                #the ':' indicator states that all rows will be selected"
   ]
  },
  {
   "cell_type": "code",
   "execution_count": 47,
   "id": "de000067",
   "metadata": {},
   "outputs": [
    {
     "data": {
      "text/plain": [
       "array([[10, 15, 17, 26],\n",
       "       [12, 11, 21, 24]])"
      ]
     },
     "execution_count": 47,
     "metadata": {},
     "output_type": "execute_result"
    }
   ],
   "source": [
    "cyclist_trials"
   ]
  },
  {
   "cell_type": "code",
   "execution_count": 48,
   "id": "5a95b605",
   "metadata": {},
   "outputs": [
    {
     "data": {
      "text/plain": [
       "array([[15, 17],\n",
       "       [11, 21]])"
      ]
     },
     "execution_count": 48,
     "metadata": {},
     "output_type": "execute_result"
    }
   ],
   "source": [
    "two_cyclist_trail_data"
   ]
  },
  {
   "cell_type": "code",
   "execution_count": 135,
   "id": "d5dcd3e7",
   "metadata": {},
   "outputs": [],
   "source": [
    "#Loop Through the Index Numbers\n",
    "#We can also loop through the list items by referring to their index number.\n",
    "\n",
    "#Use the range() and len() functions to create a suitable iterable."
   ]
  },
  {
   "cell_type": "code",
   "execution_count": 49,
   "id": "c56a817a",
   "metadata": {
    "scrolled": true
   },
   "outputs": [
    {
     "name": "stdout",
     "output_type": "stream",
     "text": [
      "red\n",
      "blue\n",
      "green\n"
     ]
    }
   ],
   "source": [
    "mylist = [\"red\", \"blue\", \"green\"]\n",
    "for i in range(len(mylist)):\n",
    "  print(mylist[i])"
   ]
  },
  {
   "cell_type": "code",
   "execution_count": 50,
   "id": "4832c4d5",
   "metadata": {},
   "outputs": [],
   "source": [
    "#While loop\n",
    "#Using a While Loop\n",
    "#We can loop through the list items by using a while loop.\n",
    "\n",
    "#Use the len() function to determine the length of the list, then start at 0 and loop your way through the list items \n",
    "#by refering to their indexes.\n",
    "\n",
    "#Increase the index by 1 after each iteration."
   ]
  },
  {
   "cell_type": "code",
   "execution_count": 94,
   "id": "678c0995",
   "metadata": {},
   "outputs": [
    {
     "name": "stdout",
     "output_type": "stream",
     "text": [
      "red\n",
      "blue\n",
      "green\n"
     ]
    }
   ],
   "source": [
    "mylist = [\"red\", \"blue\", \"green\"]\n",
    "i = 0\n",
    "while i < len(mylist):\n",
    "  print(mylist[i])\n",
    "  i = i + 1"
   ]
  },
  {
   "cell_type": "code",
   "execution_count": 53,
   "id": "ea47a0d1",
   "metadata": {},
   "outputs": [
    {
     "data": {
      "text/plain": [
       "array([[15, 17],\n",
       "       [11, 21]])"
      ]
     },
     "execution_count": 53,
     "metadata": {},
     "output_type": "execute_result"
    }
   ],
   "source": [
    "two_cyclist_trail_data"
   ]
  },
  {
   "cell_type": "code",
   "execution_count": 52,
   "id": "27e41b38",
   "metadata": {},
   "outputs": [
    {
     "name": "stdout",
     "output_type": "stream",
     "text": [
      "[10 15 17 26]\n",
      "[12 11 21 24]\n"
     ]
    }
   ],
   "source": [
    "for iterate_cyclist_trials_data in cyclist_trials:        #Iterating over all the values in the dataset using For Loop\n",
    "    print(iterate_cyclist_trials_data)"
   ]
  },
  {
   "cell_type": "code",
   "execution_count": 97,
   "id": "368990f7",
   "metadata": {},
   "outputs": [],
   "source": [
    "#indexing with Boolean arrays"
   ]
  },
  {
   "cell_type": "code",
   "execution_count": 54,
   "id": "94797ca1",
   "metadata": {},
   "outputs": [],
   "source": [
    "#We have student 1 with scores 83,71,57,63 and student 2 with scores 54,68,81,45\n",
    "test_scores = np.array([[83,71,57,63],[54,68,81,45]])\n"
   ]
  },
  {
   "cell_type": "code",
   "execution_count": 55,
   "id": "38f9b60d",
   "metadata": {},
   "outputs": [],
   "source": [
    "passing_score = test_scores > 60"
   ]
  },
  {
   "cell_type": "code",
   "execution_count": 56,
   "id": "4b073d32",
   "metadata": {},
   "outputs": [
    {
     "data": {
      "text/plain": [
       "array([[ True,  True, False,  True],\n",
       "       [False,  True,  True, False]])"
      ]
     },
     "execution_count": 56,
     "metadata": {},
     "output_type": "execute_result"
    }
   ],
   "source": [
    "passing_score"
   ]
  },
  {
   "cell_type": "code",
   "execution_count": 57,
   "id": "289286d0",
   "metadata": {},
   "outputs": [
    {
     "data": {
      "text/plain": [
       "array([83, 71, 63, 68, 81])"
      ]
     },
     "execution_count": 57,
     "metadata": {},
     "output_type": "execute_result"
    }
   ],
   "source": [
    "#the test scores which are greater than 60\n",
    "test_scores[passing_score]"
   ]
  },
  {
   "cell_type": "code",
   "execution_count": 102,
   "id": "e63b900d",
   "metadata": {},
   "outputs": [],
   "source": [
    "#The Difference Between Copy and View\n",
    "#The main difference between a copy and a view of an array is that the copy is a new array, \n",
    "#and the view is just a view of the original array.\n",
    "\n",
    "#The copy owns the data and any changes made to the copy will not affect original array, \n",
    "#and any changes made to the original array will not affect the copy.\n",
    "\n",
    "#The view does not own the data and any changes made to the view will affect the original array, \n",
    "#and any changes made to the original array will affect the view."
   ]
  },
  {
   "cell_type": "code",
   "execution_count": 58,
   "id": "fed41b7d",
   "metadata": {},
   "outputs": [
    {
     "name": "stdout",
     "output_type": "stream",
     "text": [
      "[45  7  8  9 10]\n",
      "[ 6  7  8  9 10]\n"
     ]
    }
   ],
   "source": [
    "#Make a copy, change the original array, and display both arrays:\n",
    "\n",
    "import numpy as np\n",
    "arr9 = np.array([6,7,8,9,10])      #The copy SHOULD NOT be affected by the changes made to the original array.\n",
    "x = arr9.copy()\n",
    "arr9[0] = 45\n",
    "print(arr9)\n",
    "print(x)"
   ]
  },
  {
   "cell_type": "code",
   "execution_count": 59,
   "id": "710c5d3a",
   "metadata": {},
   "outputs": [
    {
     "name": "stdout",
     "output_type": "stream",
     "text": [
      "[31  2  3  4  5]\n",
      "[31  2  3  4  5]\n"
     ]
    }
   ],
   "source": [
    "#Make a view, change the view, and display both arrays:\n",
    "\n",
    "import numpy as np\n",
    "\n",
    "arr10 = np.array([1, 2, 3, 4, 5])     #The original array SHOULD be affected by the changes made to the view.\n",
    "x = arr10.view()\n",
    "x[0] = 31\n",
    "\n",
    "print(arr10)\n",
    "print(x)"
   ]
  },
  {
   "cell_type": "code",
   "execution_count": 60,
   "id": "df059536",
   "metadata": {},
   "outputs": [
    {
     "name": "stdout",
     "output_type": "stream",
     "text": [
      "None\n",
      "[1 2 3 4 5]\n"
     ]
    }
   ],
   "source": [
    "#Every NumPy array has the attribute base that returns None if the array owns the data.\n",
    "\n",
    "#Otherwise, the base  attribute refers to the original object.\n",
    "\n",
    "import numpy as np\n",
    "\n",
    "arr = np.array([1, 2, 3, 4, 5])\n",
    "\n",
    "x = arr.copy()\n",
    "y = arr.view()\n",
    "\n",
    "print(x.base)\n",
    "print(y.base)"
   ]
  },
  {
   "cell_type": "code",
   "execution_count": 61,
   "id": "f38f9aa2",
   "metadata": {},
   "outputs": [],
   "source": [
    "#When working with arrays, data is copied into new arrays only in some cases. Following are the three possible scenarios:\n",
    "#In this method, a variable is directly assigned the value of another variable. No new copy is made.\n",
    "\n",
    "import numpy as np\n",
    "NYC_Borough = np.array(['Manhattan','Bronx','Brooklyn','Staten Island','Queens'])\n",
    "\n"
   ]
  },
  {
   "cell_type": "code",
   "execution_count": 62,
   "id": "a140ccf4",
   "metadata": {},
   "outputs": [
    {
     "data": {
      "text/plain": [
       "array(['Manhattan', 'Bronx', 'Brooklyn', 'Staten Island', 'Queens'],\n",
       "      dtype='<U13')"
      ]
     },
     "execution_count": 62,
     "metadata": {},
     "output_type": "execute_result"
    }
   ],
   "source": [
    "NYC_Borough"
   ]
  },
  {
   "cell_type": "code",
   "execution_count": 63,
   "id": "2a3aaaba",
   "metadata": {},
   "outputs": [],
   "source": [
    "#renaming\n",
    "\n",
    "Boroughs_In_NYC=NYC_Borough"
   ]
  },
  {
   "cell_type": "code",
   "execution_count": 64,
   "id": "68dcf223",
   "metadata": {},
   "outputs": [
    {
     "data": {
      "text/plain": [
       "array(['Manhattan', 'Bronx', 'Brooklyn', 'Staten Island', 'Queens'],\n",
       "      dtype='<U13')"
      ]
     },
     "execution_count": 64,
     "metadata": {},
     "output_type": "execute_result"
    }
   ],
   "source": [
    "Boroughs_In_NYC"
   ]
  },
  {
   "cell_type": "code",
   "execution_count": 65,
   "id": "b27e155d",
   "metadata": {},
   "outputs": [
    {
     "data": {
      "text/plain": [
       "True"
      ]
     },
     "execution_count": 65,
     "metadata": {},
     "output_type": "execute_result"
    }
   ],
   "source": [
    "#Checking with the Boolean operators\n",
    "\n",
    "Boroughs_In_NYC is NYC_Borough"
   ]
  },
  {
   "cell_type": "code",
   "execution_count": 66,
   "id": "7e140250",
   "metadata": {},
   "outputs": [],
   "source": [
    "views_in_Boroughs_In_NYC=Boroughs_In_NYC.view()"
   ]
  },
  {
   "cell_type": "code",
   "execution_count": 67,
   "id": "eac278dd",
   "metadata": {},
   "outputs": [
    {
     "data": {
      "text/plain": [
       "5"
      ]
     },
     "execution_count": 67,
     "metadata": {},
     "output_type": "execute_result"
    }
   ],
   "source": [
    "len(views_in_Boroughs_In_NYC)"
   ]
  },
  {
   "cell_type": "code",
   "execution_count": 68,
   "id": "37893929",
   "metadata": {},
   "outputs": [],
   "source": [
    "views_in_Boroughs_In_NYC[4] = 'Central Park'"
   ]
  },
  {
   "cell_type": "code",
   "execution_count": 69,
   "id": "b0d1f7ca",
   "metadata": {},
   "outputs": [
    {
     "name": "stdout",
     "output_type": "stream",
     "text": [
      "['Manhattan' 'Bronx' 'Brooklyn' 'Staten Island' 'Central Park']\n"
     ]
    }
   ],
   "source": [
    "print(views_in_Boroughs_In_NYC)"
   ]
  },
  {
   "cell_type": "code",
   "execution_count": 70,
   "id": "f5bb36d6",
   "metadata": {},
   "outputs": [
    {
     "name": "stdout",
     "output_type": "stream",
     "text": [
      "['Manhattan' 'Bronx' 'Brooklyn' 'Staten Island' 'Central Park']\n"
     ]
    }
   ],
   "source": [
    "print(Boroughs_In_NYC)            #Changes made in the view will amend the original array,as view does not own data"
   ]
  },
  {
   "cell_type": "code",
   "execution_count": 71,
   "id": "87b005e8",
   "metadata": {},
   "outputs": [],
   "source": [
    "#Copy of Original Array\n",
    "copy_NYC_Borough = NYC_Borough.copy()"
   ]
  },
  {
   "cell_type": "code",
   "execution_count": 72,
   "id": "bf4d6205",
   "metadata": {},
   "outputs": [
    {
     "data": {
      "text/plain": [
       "False"
      ]
     },
     "execution_count": 72,
     "metadata": {},
     "output_type": "execute_result"
    }
   ],
   "source": [
    "copy_NYC_Borough is NYC_Borough     #Copy is a deep copy of original array and not same as the original array"
   ]
  },
  {
   "cell_type": "code",
   "execution_count": 73,
   "id": "6566a8d2",
   "metadata": {},
   "outputs": [
    {
     "data": {
      "text/plain": [
       "False"
      ]
     },
     "execution_count": 73,
     "metadata": {},
     "output_type": "execute_result"
    }
   ],
   "source": [
    "copy_NYC_Borough.base is NYC_Borough #the copy of the array is NOT owned by the original array"
   ]
  },
  {
   "cell_type": "code",
   "execution_count": 74,
   "id": "31040370",
   "metadata": {},
   "outputs": [],
   "source": [
    "copy_NYC_Borough[4] = 'Main Park'"
   ]
  },
  {
   "cell_type": "code",
   "execution_count": 75,
   "id": "5ba99522",
   "metadata": {},
   "outputs": [
    {
     "data": {
      "text/plain": [
       "array(['Manhattan', 'Bronx', 'Brooklyn', 'Staten Island', 'Main Park'],\n",
       "      dtype='<U13')"
      ]
     },
     "execution_count": 75,
     "metadata": {},
     "output_type": "execute_result"
    }
   ],
   "source": [
    "copy_NYC_Borough"
   ]
  },
  {
   "cell_type": "code",
   "execution_count": 76,
   "id": "9454de19",
   "metadata": {},
   "outputs": [
    {
     "data": {
      "text/plain": [
       "array(['Manhattan', 'Bronx', 'Brooklyn', 'Staten Island', 'Central Park'],\n",
       "      dtype='<U13')"
      ]
     },
     "execution_count": 76,
     "metadata": {},
     "output_type": "execute_result"
    }
   ],
   "source": [
    "NYC_Borough"
   ]
  },
  {
   "cell_type": "markdown",
   "id": "66208e58",
   "metadata": {},
   "source": [
    "## Basic operations of a Numpy Array-Demo"
   ]
  },
  {
   "cell_type": "code",
   "execution_count": 77,
   "id": "043fbf2e",
   "metadata": {},
   "outputs": [],
   "source": [
    "import numpy as np"
   ]
  },
  {
   "cell_type": "code",
   "execution_count": 78,
   "id": "17d8f52d",
   "metadata": {},
   "outputs": [
    {
     "data": {
      "text/plain": [
       "65"
      ]
     },
     "execution_count": 78,
     "metadata": {},
     "output_type": "execute_result"
    }
   ],
   "source": [
    "#addition\n",
    "np.add(45,20)"
   ]
  },
  {
   "cell_type": "code",
   "execution_count": 79,
   "id": "62ad1755",
   "metadata": {},
   "outputs": [
    {
     "data": {
      "text/plain": [
       "22"
      ]
     },
     "execution_count": 79,
     "metadata": {},
     "output_type": "execute_result"
    }
   ],
   "source": [
    "#Subtraction\n",
    "np.subtract(45,23)"
   ]
  },
  {
   "cell_type": "code",
   "execution_count": 80,
   "id": "f584ae2f",
   "metadata": {},
   "outputs": [],
   "source": [
    "#We compute the daily wage of a lobour,with the hours worked for 5 days,and a payment of $15 dollars per hour.\n",
    "daily_wage = np.array([15,16,17,18,19])*15"
   ]
  },
  {
   "cell_type": "code",
   "execution_count": 81,
   "id": "3ff22ca2",
   "metadata": {},
   "outputs": [
    {
     "data": {
      "text/plain": [
       "array([225, 240, 255, 270, 285])"
      ]
     },
     "execution_count": 81,
     "metadata": {},
     "output_type": "execute_result"
    }
   ],
   "source": [
    "daily_wage"
   ]
  },
  {
   "cell_type": "code",
   "execution_count": 82,
   "id": "10779829",
   "metadata": {},
   "outputs": [
    {
     "data": {
      "text/plain": [
       "1275"
      ]
     },
     "execution_count": 82,
     "metadata": {},
     "output_type": "execute_result"
    }
   ],
   "source": [
    "#to find the total earnings in 5 days\n",
    "sum(daily_wage)"
   ]
  },
  {
   "cell_type": "markdown",
   "id": "224c0b67",
   "metadata": {},
   "source": [
    "## Comparison Operators"
   ]
  },
  {
   "cell_type": "code",
   "execution_count": 83,
   "id": "14157e50",
   "metadata": {},
   "outputs": [],
   "source": [
    "#Create an array which shows how many hours per week has been worked,for 5 consequetive weeks\n",
    "np_weekly_hrs= np.array([23,41,55,47,38])"
   ]
  },
  {
   "cell_type": "code",
   "execution_count": 84,
   "id": "3bc9dc47",
   "metadata": {},
   "outputs": [
    {
     "data": {
      "text/plain": [
       "array([False,  True,  True,  True, False])"
      ]
     },
     "execution_count": 84,
     "metadata": {},
     "output_type": "execute_result"
    }
   ],
   "source": [
    "#no of weeks were the person worked more than 40 hours\n",
    "np_weekly_hrs>40"
   ]
  },
  {
   "cell_type": "code",
   "execution_count": 85,
   "id": "97113635",
   "metadata": {},
   "outputs": [
    {
     "data": {
      "text/plain": [
       "array([41, 55, 47])"
      ]
     },
     "execution_count": 85,
     "metadata": {},
     "output_type": "execute_result"
    }
   ],
   "source": [
    "#To get the actual number of hours\n",
    "np_weekly_hrs[np_weekly_hrs>40]"
   ]
  },
  {
   "cell_type": "code",
   "execution_count": 86,
   "id": "4d3cea04",
   "metadata": {},
   "outputs": [
    {
     "data": {
      "text/plain": [
       "array([23, 41, 55, 47, 38])"
      ]
     },
     "execution_count": 86,
     "metadata": {},
     "output_type": "execute_result"
    }
   ],
   "source": [
    "#weeks when the person did not work for 40 hours,here we get subset of the main data\n",
    "np_weekly_hrs[np_weekly_hrs!=40]"
   ]
  },
  {
   "cell_type": "markdown",
   "id": "549f3277",
   "metadata": {},
   "source": [
    "## Logical operations with Numpy"
   ]
  },
  {
   "cell_type": "code",
   "execution_count": 87,
   "id": "d48ecd4d",
   "metadata": {},
   "outputs": [
    {
     "data": {
      "text/plain": [
       "array([ True,  True, False,  True,  True])"
      ]
     },
     "execution_count": 87,
     "metadata": {},
     "output_type": "execute_result"
    }
   ],
   "source": [
    "#Say we want to find out in how many weeks the person worked for more than 20 hours and less than 50 hours\n",
    "#We will use the AND operator,and the result will be a boolean value.\n",
    "np.logical_and(np_weekly_hrs>20,np_weekly_hrs<50)"
   ]
  },
  {
   "cell_type": "code",
   "execution_count": 88,
   "id": "61fdfec8",
   "metadata": {},
   "outputs": [
    {
     "data": {
      "text/plain": [
       "array([ True, False, False, False, False])"
      ]
     },
     "execution_count": 88,
     "metadata": {},
     "output_type": "execute_result"
    }
   ],
   "source": [
    "#We want to find how in which weeks the hours worked by the person did not exceed 35 hours.\n",
    "np.logical_not(np_weekly_hrs>35)"
   ]
  },
  {
   "cell_type": "markdown",
   "id": "12a162fa",
   "metadata": {},
   "source": [
    "## Universal Functions (Ufunc).ufuncs are used to implement vectorization in NumPy which is way faster than iterating over elements.Vectorization is a technique of implementing array operations without using for loops."
   ]
  },
  {
   "cell_type": "code",
   "execution_count": 89,
   "id": "b55bc342",
   "metadata": {},
   "outputs": [
    {
     "data": {
      "text/plain": [
       "array([2., 9., 8., 5.])"
      ]
     },
     "execution_count": 89,
     "metadata": {},
     "output_type": "execute_result"
    }
   ],
   "source": [
    "#numpy.sqrt(array[, out]) function is used to determine the positive square-root of an array, element-wise.\n",
    "import numpy as me\n",
    "first_array = me.sqrt([4,81,64,25])\n",
    "first_array"
   ]
  },
  {
   "cell_type": "code",
   "execution_count": 90,
   "id": "10c9bb1b",
   "metadata": {},
   "outputs": [
    {
     "name": "stderr",
     "output_type": "stream",
     "text": [
      "C:\\Users\\Lenovo\\AppData\\Local\\Temp/ipykernel_1400/3842107405.py:3: RuntimeWarning: invalid value encountered in sqrt\n",
      "  array2 = np.sqrt([-4, 5, -6])\n"
     ]
    },
    {
     "data": {
      "text/plain": [
       "array([       nan, 2.23606798,        nan])"
      ]
     },
     "execution_count": 90,
     "metadata": {},
     "output_type": "execute_result"
    }
   ],
   "source": [
    "#the sqrt function does not work for negetive numbers\n",
    "import numpy as np\n",
    "array2 = np.sqrt([-4, 5, -6])\n",
    "array2"
   ]
  },
  {
   "cell_type": "markdown",
   "id": "fbbb886f",
   "metadata": {},
   "source": [
    "## Trigonometric Functions-NumPy provides the ufuncs sin(), cos() and tan()  to  produce the corresponding sin, cos and tan values."
   ]
  },
  {
   "cell_type": "code",
   "execution_count": 91,
   "id": "a0d8232e",
   "metadata": {},
   "outputs": [
    {
     "data": {
      "text/plain": [
       "[0, 1.5707963267948966, 1.0471975511965976, 3.141592653589793]"
      ]
     },
     "execution_count": 91,
     "metadata": {},
     "output_type": "execute_result"
    }
   ],
   "source": [
    "#numpy.cos-This mathematical function helps us to calculate trigonometric cosine for all x(being the array elements).\n",
    "# array elements are in radians. 2pi Radians = 360 degrees\n",
    "import numpy as np\n",
    "\n",
    " \n",
    "cs_array = [0, np.pi / 2, np.pi / 3, np.pi]\n",
    "cs_array"
   ]
  },
  {
   "cell_type": "code",
   "execution_count": 92,
   "id": "0496c972",
   "metadata": {},
   "outputs": [
    {
     "name": "stdout",
     "output_type": "stream",
     "text": [
      "[1.         0.58778525]\n"
     ]
    }
   ],
   "source": [
    "#using sine function\n",
    "import numpy as np\n",
    "\n",
    "array1 = np.array([np.pi/2, np.pi/5])\n",
    "\n",
    "x = np.sin(array1)\n",
    "\n",
    "print(x)"
   ]
  },
  {
   "cell_type": "code",
   "execution_count": 93,
   "id": "bcfe77e3",
   "metadata": {},
   "outputs": [
    {
     "name": "stdout",
     "output_type": "stream",
     "text": [
      "[0. 0. 1. 1. 9.]\n"
     ]
    }
   ],
   "source": [
    "#Floor functions--This function returns the floor value of the input array elements. \n",
    "#The floor of a number x is i if i is the largest integer such that, i<=x.\n",
    "import numpy as np  \n",
    "  \n",
    "arr = [0.23, 0.09, 1.2, 1.24, 9.99] \n",
    "\n",
    "fl_arr = np.floor(arr) \n",
    "\n",
    "print(fl_arr)"
   ]
  },
  {
   "cell_type": "code",
   "execution_count": 94,
   "id": "98c02d43",
   "metadata": {},
   "outputs": [
    {
     "name": "stdout",
     "output_type": "stream",
     "text": [
      "[[5 3]\n",
      " [8 9]]\n",
      "[[ 0.42857143 -0.14285714]\n",
      " [-0.38095238  0.23809524]]\n",
      "[[1. 0.]\n",
      " [0. 1.]]\n"
     ]
    }
   ],
   "source": [
    "#Inverse of a matrix or array\n",
    "import numpy as np        #only for square matrices\n",
    "\n",
    "x = np.array([[5,3],[8,9]]) \n",
    "y = np.linalg.inv(x) \n",
    "print (x)\n",
    "print (y) \n",
    "print (np.dot(x,y))"
   ]
  },
  {
   "cell_type": "code",
   "execution_count": 95,
   "id": "b179b33a",
   "metadata": {},
   "outputs": [],
   "source": [
    "import numpy as mat\n",
    "array1 = mat.array([[10,20],[15,25]])\n",
    "inv_array1 = mat.linalg.inv(array1)\n",
    "\n"
   ]
  },
  {
   "cell_type": "code",
   "execution_count": 96,
   "id": "8d1c49fe",
   "metadata": {},
   "outputs": [
    {
     "data": {
      "text/plain": [
       "array([[1., 0.],\n",
       "       [0., 1.]])"
      ]
     },
     "execution_count": 96,
     "metadata": {},
     "output_type": "execute_result"
    }
   ],
   "source": [
    "mat.matmul(array1,inv_array1)  #the matrix/array multiplied by its inverse will always give an identity matrix as result"
   ]
  },
  {
   "cell_type": "code",
   "execution_count": null,
   "id": "0530241f",
   "metadata": {},
   "outputs": [],
   "source": []
  }
 ],
 "metadata": {
  "kernelspec": {
   "display_name": "Python 3 (ipykernel)",
   "language": "python",
   "name": "python3"
  },
  "language_info": {
   "codemirror_mode": {
    "name": "ipython",
    "version": 3
   },
   "file_extension": ".py",
   "mimetype": "text/x-python",
   "name": "python",
   "nbconvert_exporter": "python",
   "pygments_lexer": "ipython3",
   "version": "3.9.7"
  }
 },
 "nbformat": 4,
 "nbformat_minor": 5
}
