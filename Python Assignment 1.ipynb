{
 "cells": [
  {
   "cell_type": "code",
   "execution_count": 1,
   "id": "cbfe0159",
   "metadata": {},
   "outputs": [],
   "source": [
    "import numpy as np\n",
    "from numpy.random import randn"
   ]
  },
  {
   "cell_type": "code",
   "execution_count": 9,
   "id": "27a9bf5f",
   "metadata": {},
   "outputs": [
    {
     "data": {
      "text/plain": [
       "-0.4342647137765289"
      ]
     },
     "execution_count": 9,
     "metadata": {},
     "output_type": "execute_result"
    }
   ],
   "source": [
    "randn()"
   ]
  },
  {
   "cell_type": "code",
   "execution_count": 12,
   "id": "20af12b4",
   "metadata": {},
   "outputs": [
    {
     "name": "stdout",
     "output_type": "stream",
     "text": [
      "-0.7800181882756746\n"
     ]
    }
   ],
   "source": [
    "x=randn()\n",
    "if x>1:\n",
    "    answer=\"greater than 1\"\n",
    "    print(answer)\n",
    "print(x)"
   ]
  },
  {
   "cell_type": "code",
   "execution_count": 13,
   "id": "b0cf1a19",
   "metadata": {},
   "outputs": [
    {
     "name": "stdout",
     "output_type": "stream",
     "text": [
      "-1.0088648201307904\n"
     ]
    }
   ],
   "source": [
    "x=randn()\n",
    "if x>1:\n",
    "    answer=\"greater than 1\"\n",
    "    print(answer)\n",
    "print(x)"
   ]
  },
  {
   "cell_type": "code",
   "execution_count": 20,
   "id": "03897c9e",
   "metadata": {},
   "outputs": [
    {
     "name": "stdout",
     "output_type": "stream",
     "text": [
      "-0.6859712839792629\n",
      "None\n"
     ]
    }
   ],
   "source": [
    "answer= None\n",
    "x=randn()\n",
    "if x>1:\n",
    "    answer=\"greater than 1\"\n",
    "print(x)\n",
    "print(answer)"
   ]
  },
  {
   "cell_type": "code",
   "execution_count": 14,
   "id": "4802cd80",
   "metadata": {},
   "outputs": [
    {
     "name": "stdout",
     "output_type": "stream",
     "text": [
      "1.825893478537087\n",
      "greater than 1\n"
     ]
    }
   ],
   "source": [
    "answer= None\n",
    "x=randn()\n",
    "if x>1:\n",
    "    answer=\"greater than 1\"\n",
    "else:\n",
    "    answer=\"lesser than 1\"\n",
    "print(x)\n",
    "print(answer)"
   ]
  },
  {
   "cell_type": "code",
   "execution_count": 15,
   "id": "e258c0fb",
   "metadata": {},
   "outputs": [
    {
     "name": "stdout",
     "output_type": "stream",
     "text": [
      "-2.5446968885210186\n",
      "lesser than -1\n"
     ]
    }
   ],
   "source": [
    "answer =None\n",
    "x=randn()\n",
    "if x>1:\n",
    "    answer=\"greater than 1\"\n",
    "else:\n",
    "    if x >=-1:\n",
    "        answer=\"Between -1 and 1\"\n",
    "    else:\n",
    "        answer=\"lesser than -1\"\n",
    "print(x)\n",
    "print(answer)"
   ]
  },
  {
   "cell_type": "code",
   "execution_count": 16,
   "id": "61ff29ec",
   "metadata": {},
   "outputs": [
    {
     "name": "stdout",
     "output_type": "stream",
     "text": [
      "0.14446284991295108\n",
      "Between -1 and 1\n"
     ]
    }
   ],
   "source": [
    "#Chained IF statements\n",
    "answer =None\n",
    "x=randn()\n",
    "if x>1:\n",
    "    answer=\"greater than 1\"\n",
    "elif x >=-1:\n",
    "        answer=\"Between -1 and 1\"\n",
    "else:\n",
    "        answer=\"lesser than -1\"\n",
    "print(x)\n",
    "print(answer)"
   ]
  },
  {
   "cell_type": "code",
   "execution_count": null,
   "id": "ad7b7258",
   "metadata": {},
   "outputs": [],
   "source": []
  }
 ],
 "metadata": {
  "kernelspec": {
   "display_name": "Python 3 (ipykernel)",
   "language": "python",
   "name": "python3"
  },
  "language_info": {
   "codemirror_mode": {
    "name": "ipython",
    "version": 3
   },
   "file_extension": ".py",
   "mimetype": "text/x-python",
   "name": "python",
   "nbconvert_exporter": "python",
   "pygments_lexer": "ipython3",
   "version": "3.9.7"
  }
 },
 "nbformat": 4,
 "nbformat_minor": 5
}
